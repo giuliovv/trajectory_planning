{
 "cells": [
  {
   "cell_type": "code",
   "execution_count": 1,
   "metadata": {},
   "outputs": [],
   "source": [
    "import sympy\n",
    "from sympy import Symbol, Sum, IndexedBase\n",
    "from sympy.parsing.sympy_parser import parse_expr"
   ]
  },
  {
   "cell_type": "code",
   "execution_count": 2,
   "metadata": {},
   "outputs": [],
   "source": [
    "a = IndexedBase(\"alpha\", \"i\")\n",
    "xr = IndexedBase(\"x_r\", \"i\")\n",
    "yr = IndexedBase(\"y_r\", \"i\")\n",
    "xl = IndexedBase(\"x_l\", \"i\")\n",
    "yl = IndexedBase(\"y_l\", \"i\")\n",
    "\n",
    "x = IndexedBase(\"x\", \"i\")\n",
    "y = IndexedBase(\"y\", \"i\")\n",
    "\n",
    "kp = Symbol(\"k_p\")\n",
    "kl = Symbol(\"k_l\")\n",
    "\n",
    "i = Symbol(\"i\")\n",
    "N = Symbol(\"N\")"
   ]
  },
  {
   "cell_type": "markdown",
   "metadata": {},
   "source": [
    "## Formulation"
   ]
  },
  {
   "cell_type": "code",
   "execution_count": 3,
   "metadata": {},
   "outputs": [
    {
     "data": {
      "text/latex": [
       "$\\displaystyle \\sqrt{\\left({x}_{i + 1} - {x}_{i}\\right)^{2} + \\left({y}_{i + 1} - {y}_{i}\\right)^{2}}$"
      ],
      "text/plain": [
       "sqrt((x[i + 1] - x[i])**2 + (y[i + 1] - y[i])**2)"
      ]
     },
     "execution_count": 3,
     "metadata": {},
     "output_type": "execute_result"
    }
   ],
   "source": [
    "ds = sympy.sqrt((x[i+1]-x[i])**2+(y[i+1]-y[i])**2)\n",
    "ds"
   ]
  },
  {
   "cell_type": "code",
   "execution_count": 4,
   "metadata": {},
   "outputs": [
    {
     "data": {
      "text/latex": [
       "$\\displaystyle \\sum_{i=0}^{N} \\left(\\left({x}_{i + 1} - {x}_{i}\\right)^{2} + \\left({y}_{i + 1} - {y}_{i}\\right)^{2}\\right)$"
      ],
      "text/plain": [
       "Sum((x[i + 1] - x[i])**2 + (y[i + 1] - y[i])**2, (i, 0, N))"
      ]
     },
     "execution_count": 4,
     "metadata": {},
     "output_type": "execute_result"
    }
   ],
   "source": [
    "Jl = ds**2\n",
    "Sum(Jl, (\"i\", 0, N))"
   ]
  },
  {
   "cell_type": "code",
   "execution_count": 5,
   "metadata": {},
   "outputs": [
    {
     "data": {
      "text/latex": [
       "$\\displaystyle \\sum_{i=1}^{N} \\left(\\left({x}_{i + 1} - {x}_{i}\\right)^{2} + \\left({y}_{i + 1} - {y}_{i}\\right)^{2}\\right)$"
      ],
      "text/plain": [
       "Sum((x[i + 1] - x[i])**2 + (y[i + 1] - y[i])**2, (i, 1, N))"
      ]
     },
     "execution_count": 5,
     "metadata": {},
     "output_type": "execute_result"
    }
   ],
   "source": [
    "Jp = (sympy.atan((y[i+1]-y[i])/(x[i+1]-x[i]))-sympy.atan((y[i]-y[i-1])/(x[i]-x[i-1])))/(ds)\n",
    "Sum(Jl, (\"i\", 1, N))"
   ]
  },
  {
   "cell_type": "markdown",
   "metadata": {},
   "source": [
    "## Substitutions"
   ]
  },
  {
   "cell_type": "code",
   "execution_count": 6,
   "metadata": {},
   "outputs": [
    {
     "data": {
      "text/latex": [
       "$\\displaystyle \\sum_{i=1}^{N} \\left(\\left(\\left(- {x_{l}}_{i + 1} + {x_{r}}_{i + 1}\\right) {\\alpha}_{i + 1} - \\left(- {x_{l}}_{i} + {x_{r}}_{i}\\right) {\\alpha}_{i} + {x_{r}}_{i + 1} - {x_{r}}_{i}\\right)^{2} + \\left(\\left(- {y_{l}}_{i + 1} + {y_{r}}_{i + 1}\\right) {\\alpha}_{i + 1} - \\left(- {y_{l}}_{i} + {y_{r}}_{i}\\right) {\\alpha}_{i} + {y_{r}}_{i + 1} - {y_{r}}_{i}\\right)^{2}\\right)$"
      ],
      "text/plain": [
       "Sum(((-x_l[i + 1] + x_r[i + 1])*alpha[i + 1] - (-x_l[i] + x_r[i])*alpha[i] + x_r[i + 1] - x_r[i])**2 + ((-y_l[i + 1] + y_r[i + 1])*alpha[i + 1] - (-y_l[i] + y_r[i])*alpha[i] + y_r[i + 1] - y_r[i])**2, (i, 1, N))"
      ]
     },
     "execution_count": 6,
     "metadata": {},
     "output_type": "execute_result"
    }
   ],
   "source": [
    "Jl = Jl \\\n",
    "    .subs(x[i+1], xr[i+1]+a[i+1]*(xr[i+1]-xl[i+1])) \\\n",
    "    .subs(x[i], xr[i]+a[i]*(xr[i]-xl[i])) \\\n",
    "    .subs(y[i], yr[i]+a[i]*(yr[i]-yl[i])) \\\n",
    "    .subs(y[i+1], yr[i+1]+a[i+1]*(yr[i+1]-yl[i+1]))\n",
    "Sum(Jl, (\"i\", 1, N))"
   ]
  },
  {
   "cell_type": "code",
   "execution_count": 7,
   "metadata": {},
   "outputs": [
    {
     "data": {
      "text/latex": [
       "$\\displaystyle \\sum_{i=1}^{N} \\frac{\\operatorname{atan}{\\left(\\frac{\\left(- {y_{l}}_{i + 1} + {y_{r}}_{i + 1}\\right) {\\alpha}_{i + 1} - \\left(- {y_{l}}_{i} + {y_{r}}_{i}\\right) {\\alpha}_{i} + {y_{r}}_{i + 1} - {y_{r}}_{i}}{\\left(- {x_{l}}_{i + 1} + {x_{r}}_{i + 1}\\right) {\\alpha}_{i + 1} - \\left(- {x_{l}}_{i} + {x_{r}}_{i}\\right) {\\alpha}_{i} + {x_{r}}_{i + 1} - {x_{r}}_{i}} \\right)} - \\operatorname{atan}{\\left(\\frac{- \\left(- {y_{l}}_{i - 1} + {y_{r}}_{i - 1}\\right) {\\alpha}_{i - 1} + \\left(- {y_{l}}_{i} + {y_{r}}_{i}\\right) {\\alpha}_{i} - {y_{r}}_{i - 1} + {y_{r}}_{i}}{- \\left(- {x_{l}}_{i - 1} + {x_{r}}_{i - 1}\\right) {\\alpha}_{i - 1} + \\left(- {x_{l}}_{i} + {x_{r}}_{i}\\right) {\\alpha}_{i} - {x_{r}}_{i - 1} + {x_{r}}_{i}} \\right)}}{\\sqrt{\\left(\\left(- {x_{l}}_{i + 1} + {x_{r}}_{i + 1}\\right) {\\alpha}_{i + 1} - \\left(- {x_{l}}_{i} + {x_{r}}_{i}\\right) {\\alpha}_{i} + {x_{r}}_{i + 1} - {x_{r}}_{i}\\right)^{2} + \\left(\\left(- {y_{l}}_{i + 1} + {y_{r}}_{i + 1}\\right) {\\alpha}_{i + 1} - \\left(- {y_{l}}_{i} + {y_{r}}_{i}\\right) {\\alpha}_{i} + {y_{r}}_{i + 1} - {y_{r}}_{i}\\right)^{2}}}$"
      ],
      "text/plain": [
       "Sum((atan(((-y_l[i + 1] + y_r[i + 1])*alpha[i + 1] - (-y_l[i] + y_r[i])*alpha[i] + y_r[i + 1] - y_r[i])/((-x_l[i + 1] + x_r[i + 1])*alpha[i + 1] - (-x_l[i] + x_r[i])*alpha[i] + x_r[i + 1] - x_r[i])) - atan((-(-y_l[i - 1] + y_r[i - 1])*alpha[i - 1] + (-y_l[i] + y_r[i])*alpha[i] - y_r[i - 1] + y_r[i])/(-(-x_l[i - 1] + x_r[i - 1])*alpha[i - 1] + (-x_l[i] + x_r[i])*alpha[i] - x_r[i - 1] + x_r[i])))/sqrt(((-x_l[i + 1] + x_r[i + 1])*alpha[i + 1] - (-x_l[i] + x_r[i])*alpha[i] + x_r[i + 1] - x_r[i])**2 + ((-y_l[i + 1] + y_r[i + 1])*alpha[i + 1] - (-y_l[i] + y_r[i])*alpha[i] + y_r[i + 1] - y_r[i])**2), (i, 1, N))"
      ]
     },
     "execution_count": 7,
     "metadata": {},
     "output_type": "execute_result"
    }
   ],
   "source": [
    "Jp = Jp \\\n",
    "    .subs(x[i+1], xr[i+1]+a[i+1]*(xr[i+1]-xl[i+1])) \\\n",
    "    .subs(x[i], xr[i]+a[i]*(xr[i]-xl[i])) \\\n",
    "    .subs(x[i-1], xr[i-1]+a[i-1]*(xr[i-1]-xl[i-1])) \\\n",
    "    .subs(y[i], yr[i]+a[i]*(yr[i]-yl[i])) \\\n",
    "    .subs(y[i+1], yr[i+1]+a[i+1]*(yr[i+1]-yl[i+1])) \\\n",
    "    .subs(y[i-1], yr[i-1]+a[i-1]*(yr[i-1]-yl[i-1]))\n",
    "Sum(Jp, (\"i\", 1, N))"
   ]
  },
  {
   "cell_type": "code",
   "execution_count": 8,
   "metadata": {},
   "outputs": [
    {
     "data": {
      "text/latex": [
       "$\\displaystyle k_{l} \\left(\\left(\\left(- {x_{l}}_{i + 1} + {x_{r}}_{i + 1}\\right) {\\alpha}_{i + 1} - \\left(- {x_{l}}_{i} + {x_{r}}_{i}\\right) {\\alpha}_{i} + {x_{r}}_{i + 1} - {x_{r}}_{i}\\right)^{2} + \\left(\\left(- {y_{l}}_{i + 1} + {y_{r}}_{i + 1}\\right) {\\alpha}_{i + 1} - \\left(- {y_{l}}_{i} + {y_{r}}_{i}\\right) {\\alpha}_{i} + {y_{r}}_{i + 1} - {y_{r}}_{i}\\right)^{2}\\right) + \\frac{k_{p} \\left(\\operatorname{atan}{\\left(\\frac{\\left(- {y_{l}}_{i + 1} + {y_{r}}_{i + 1}\\right) {\\alpha}_{i + 1} - \\left(- {y_{l}}_{i} + {y_{r}}_{i}\\right) {\\alpha}_{i} + {y_{r}}_{i + 1} - {y_{r}}_{i}}{\\left(- {x_{l}}_{i + 1} + {x_{r}}_{i + 1}\\right) {\\alpha}_{i + 1} - \\left(- {x_{l}}_{i} + {x_{r}}_{i}\\right) {\\alpha}_{i} + {x_{r}}_{i + 1} - {x_{r}}_{i}} \\right)} - \\operatorname{atan}{\\left(\\frac{- \\left(- {y_{l}}_{i - 1} + {y_{r}}_{i - 1}\\right) {\\alpha}_{i - 1} + \\left(- {y_{l}}_{i} + {y_{r}}_{i}\\right) {\\alpha}_{i} - {y_{r}}_{i - 1} + {y_{r}}_{i}}{- \\left(- {x_{l}}_{i - 1} + {x_{r}}_{i - 1}\\right) {\\alpha}_{i - 1} + \\left(- {x_{l}}_{i} + {x_{r}}_{i}\\right) {\\alpha}_{i} - {x_{r}}_{i - 1} + {x_{r}}_{i}} \\right)}\\right)}{\\sqrt{\\left(\\left(- {x_{l}}_{i + 1} + {x_{r}}_{i + 1}\\right) {\\alpha}_{i + 1} - \\left(- {x_{l}}_{i} + {x_{r}}_{i}\\right) {\\alpha}_{i} + {x_{r}}_{i + 1} - {x_{r}}_{i}\\right)^{2} + \\left(\\left(- {y_{l}}_{i + 1} + {y_{r}}_{i + 1}\\right) {\\alpha}_{i + 1} - \\left(- {y_{l}}_{i} + {y_{r}}_{i}\\right) {\\alpha}_{i} + {y_{r}}_{i + 1} - {y_{r}}_{i}\\right)^{2}}}$"
      ],
      "text/plain": [
       "k_l*(((-x_l[i + 1] + x_r[i + 1])*alpha[i + 1] - (-x_l[i] + x_r[i])*alpha[i] + x_r[i + 1] - x_r[i])**2 + ((-y_l[i + 1] + y_r[i + 1])*alpha[i + 1] - (-y_l[i] + y_r[i])*alpha[i] + y_r[i + 1] - y_r[i])**2) + k_p*(atan(((-y_l[i + 1] + y_r[i + 1])*alpha[i + 1] - (-y_l[i] + y_r[i])*alpha[i] + y_r[i + 1] - y_r[i])/((-x_l[i + 1] + x_r[i + 1])*alpha[i + 1] - (-x_l[i] + x_r[i])*alpha[i] + x_r[i + 1] - x_r[i])) - atan((-(-y_l[i - 1] + y_r[i - 1])*alpha[i - 1] + (-y_l[i] + y_r[i])*alpha[i] - y_r[i - 1] + y_r[i])/(-(-x_l[i - 1] + x_r[i - 1])*alpha[i - 1] + (-x_l[i] + x_r[i])*alpha[i] - x_r[i - 1] + x_r[i])))/sqrt(((-x_l[i + 1] + x_r[i + 1])*alpha[i + 1] - (-x_l[i] + x_r[i])*alpha[i] + x_r[i + 1] - x_r[i])**2 + ((-y_l[i + 1] + y_r[i + 1])*alpha[i + 1] - (-y_l[i] + y_r[i])*alpha[i] + y_r[i + 1] - y_r[i])**2)"
      ]
     },
     "execution_count": 8,
     "metadata": {},
     "output_type": "execute_result"
    }
   ],
   "source": [
    "J = kl*Jl + kp * Jp\n",
    "J"
   ]
  },
  {
   "cell_type": "markdown",
   "metadata": {},
   "source": [
    "## Gradient"
   ]
  },
  {
   "cell_type": "code",
   "execution_count": 9,
   "metadata": {},
   "outputs": [
    {
     "data": {
      "text/latex": [
       "$\\displaystyle k_{l} \\left(\\left(2 {x_{l}}_{i} - 2 {x_{r}}_{i}\\right) \\left(\\left(- {x_{l}}_{i + 1} + {x_{r}}_{i + 1}\\right) {\\alpha}_{i + 1} - \\left(- {x_{l}}_{i} + {x_{r}}_{i}\\right) {\\alpha}_{i} + {x_{r}}_{i + 1} - {x_{r}}_{i}\\right) + \\left(2 {y_{l}}_{i} - 2 {y_{r}}_{i}\\right) \\left(\\left(- {y_{l}}_{i + 1} + {y_{r}}_{i + 1}\\right) {\\alpha}_{i + 1} - \\left(- {y_{l}}_{i} + {y_{r}}_{i}\\right) {\\alpha}_{i} + {y_{r}}_{i + 1} - {y_{r}}_{i}\\right)\\right) + \\frac{k_{p} \\left(- \\frac{\\frac{\\left({x_{l}}_{i} - {x_{r}}_{i}\\right) \\left(- \\left(- {y_{l}}_{i - 1} + {y_{r}}_{i - 1}\\right) {\\alpha}_{i - 1} + \\left(- {y_{l}}_{i} + {y_{r}}_{i}\\right) {\\alpha}_{i} - {y_{r}}_{i - 1} + {y_{r}}_{i}\\right)}{\\left(- \\left(- {x_{l}}_{i - 1} + {x_{r}}_{i - 1}\\right) {\\alpha}_{i - 1} + \\left(- {x_{l}}_{i} + {x_{r}}_{i}\\right) {\\alpha}_{i} - {x_{r}}_{i - 1} + {x_{r}}_{i}\\right)^{2}} + \\frac{- {y_{l}}_{i} + {y_{r}}_{i}}{- \\left(- {x_{l}}_{i - 1} + {x_{r}}_{i - 1}\\right) {\\alpha}_{i - 1} + \\left(- {x_{l}}_{i} + {x_{r}}_{i}\\right) {\\alpha}_{i} - {x_{r}}_{i - 1} + {x_{r}}_{i}}}{1 + \\frac{\\left(- \\left(- {y_{l}}_{i - 1} + {y_{r}}_{i - 1}\\right) {\\alpha}_{i - 1} + \\left(- {y_{l}}_{i} + {y_{r}}_{i}\\right) {\\alpha}_{i} - {y_{r}}_{i - 1} + {y_{r}}_{i}\\right)^{2}}{\\left(- \\left(- {x_{l}}_{i - 1} + {x_{r}}_{i - 1}\\right) {\\alpha}_{i - 1} + \\left(- {x_{l}}_{i} + {x_{r}}_{i}\\right) {\\alpha}_{i} - {x_{r}}_{i - 1} + {x_{r}}_{i}\\right)^{2}}} + \\frac{\\frac{\\left(- {x_{l}}_{i} + {x_{r}}_{i}\\right) \\left(\\left(- {y_{l}}_{i + 1} + {y_{r}}_{i + 1}\\right) {\\alpha}_{i + 1} - \\left(- {y_{l}}_{i} + {y_{r}}_{i}\\right) {\\alpha}_{i} + {y_{r}}_{i + 1} - {y_{r}}_{i}\\right)}{\\left(\\left(- {x_{l}}_{i + 1} + {x_{r}}_{i + 1}\\right) {\\alpha}_{i + 1} - \\left(- {x_{l}}_{i} + {x_{r}}_{i}\\right) {\\alpha}_{i} + {x_{r}}_{i + 1} - {x_{r}}_{i}\\right)^{2}} + \\frac{{y_{l}}_{i} - {y_{r}}_{i}}{\\left(- {x_{l}}_{i + 1} + {x_{r}}_{i + 1}\\right) {\\alpha}_{i + 1} - \\left(- {x_{l}}_{i} + {x_{r}}_{i}\\right) {\\alpha}_{i} + {x_{r}}_{i + 1} - {x_{r}}_{i}}}{1 + \\frac{\\left(\\left(- {y_{l}}_{i + 1} + {y_{r}}_{i + 1}\\right) {\\alpha}_{i + 1} - \\left(- {y_{l}}_{i} + {y_{r}}_{i}\\right) {\\alpha}_{i} + {y_{r}}_{i + 1} - {y_{r}}_{i}\\right)^{2}}{\\left(\\left(- {x_{l}}_{i + 1} + {x_{r}}_{i + 1}\\right) {\\alpha}_{i + 1} - \\left(- {x_{l}}_{i} + {x_{r}}_{i}\\right) {\\alpha}_{i} + {x_{r}}_{i + 1} - {x_{r}}_{i}\\right)^{2}}}\\right)}{\\sqrt{\\left(\\left(- {x_{l}}_{i + 1} + {x_{r}}_{i + 1}\\right) {\\alpha}_{i + 1} - \\left(- {x_{l}}_{i} + {x_{r}}_{i}\\right) {\\alpha}_{i} + {x_{r}}_{i + 1} - {x_{r}}_{i}\\right)^{2} + \\left(\\left(- {y_{l}}_{i + 1} + {y_{r}}_{i + 1}\\right) {\\alpha}_{i + 1} - \\left(- {y_{l}}_{i} + {y_{r}}_{i}\\right) {\\alpha}_{i} + {y_{r}}_{i + 1} - {y_{r}}_{i}\\right)^{2}}} + \\frac{k_{p} \\left(- \\frac{\\left(2 {x_{l}}_{i} - 2 {x_{r}}_{i}\\right) \\left(\\left(- {x_{l}}_{i + 1} + {x_{r}}_{i + 1}\\right) {\\alpha}_{i + 1} - \\left(- {x_{l}}_{i} + {x_{r}}_{i}\\right) {\\alpha}_{i} + {x_{r}}_{i + 1} - {x_{r}}_{i}\\right)}{2} - \\frac{\\left(2 {y_{l}}_{i} - 2 {y_{r}}_{i}\\right) \\left(\\left(- {y_{l}}_{i + 1} + {y_{r}}_{i + 1}\\right) {\\alpha}_{i + 1} - \\left(- {y_{l}}_{i} + {y_{r}}_{i}\\right) {\\alpha}_{i} + {y_{r}}_{i + 1} - {y_{r}}_{i}\\right)}{2}\\right) \\left(\\operatorname{atan}{\\left(\\frac{\\left(- {y_{l}}_{i + 1} + {y_{r}}_{i + 1}\\right) {\\alpha}_{i + 1} - \\left(- {y_{l}}_{i} + {y_{r}}_{i}\\right) {\\alpha}_{i} + {y_{r}}_{i + 1} - {y_{r}}_{i}}{\\left(- {x_{l}}_{i + 1} + {x_{r}}_{i + 1}\\right) {\\alpha}_{i + 1} - \\left(- {x_{l}}_{i} + {x_{r}}_{i}\\right) {\\alpha}_{i} + {x_{r}}_{i + 1} - {x_{r}}_{i}} \\right)} - \\operatorname{atan}{\\left(\\frac{- \\left(- {y_{l}}_{i - 1} + {y_{r}}_{i - 1}\\right) {\\alpha}_{i - 1} + \\left(- {y_{l}}_{i} + {y_{r}}_{i}\\right) {\\alpha}_{i} - {y_{r}}_{i - 1} + {y_{r}}_{i}}{- \\left(- {x_{l}}_{i - 1} + {x_{r}}_{i - 1}\\right) {\\alpha}_{i - 1} + \\left(- {x_{l}}_{i} + {x_{r}}_{i}\\right) {\\alpha}_{i} - {x_{r}}_{i - 1} + {x_{r}}_{i}} \\right)}\\right)}{\\left(\\left(\\left(- {x_{l}}_{i + 1} + {x_{r}}_{i + 1}\\right) {\\alpha}_{i + 1} - \\left(- {x_{l}}_{i} + {x_{r}}_{i}\\right) {\\alpha}_{i} + {x_{r}}_{i + 1} - {x_{r}}_{i}\\right)^{2} + \\left(\\left(- {y_{l}}_{i + 1} + {y_{r}}_{i + 1}\\right) {\\alpha}_{i + 1} - \\left(- {y_{l}}_{i} + {y_{r}}_{i}\\right) {\\alpha}_{i} + {y_{r}}_{i + 1} - {y_{r}}_{i}\\right)^{2}\\right)^{\\frac{3}{2}}}$"
      ],
      "text/plain": [
       "k_l*((2*x_l[i] - 2*x_r[i])*((-x_l[i + 1] + x_r[i + 1])*alpha[i + 1] - (-x_l[i] + x_r[i])*alpha[i] + x_r[i + 1] - x_r[i]) + (2*y_l[i] - 2*y_r[i])*((-y_l[i + 1] + y_r[i + 1])*alpha[i + 1] - (-y_l[i] + y_r[i])*alpha[i] + y_r[i + 1] - y_r[i])) + k_p*(-((x_l[i] - x_r[i])*(-(-y_l[i - 1] + y_r[i - 1])*alpha[i - 1] + (-y_l[i] + y_r[i])*alpha[i] - y_r[i - 1] + y_r[i])/(-(-x_l[i - 1] + x_r[i - 1])*alpha[i - 1] + (-x_l[i] + x_r[i])*alpha[i] - x_r[i - 1] + x_r[i])**2 + (-y_l[i] + y_r[i])/(-(-x_l[i - 1] + x_r[i - 1])*alpha[i - 1] + (-x_l[i] + x_r[i])*alpha[i] - x_r[i - 1] + x_r[i]))/(1 + (-(-y_l[i - 1] + y_r[i - 1])*alpha[i - 1] + (-y_l[i] + y_r[i])*alpha[i] - y_r[i - 1] + y_r[i])**2/(-(-x_l[i - 1] + x_r[i - 1])*alpha[i - 1] + (-x_l[i] + x_r[i])*alpha[i] - x_r[i - 1] + x_r[i])**2) + ((-x_l[i] + x_r[i])*((-y_l[i + 1] + y_r[i + 1])*alpha[i + 1] - (-y_l[i] + y_r[i])*alpha[i] + y_r[i + 1] - y_r[i])/((-x_l[i + 1] + x_r[i + 1])*alpha[i + 1] - (-x_l[i] + x_r[i])*alpha[i] + x_r[i + 1] - x_r[i])**2 + (y_l[i] - y_r[i])/((-x_l[i + 1] + x_r[i + 1])*alpha[i + 1] - (-x_l[i] + x_r[i])*alpha[i] + x_r[i + 1] - x_r[i]))/(1 + ((-y_l[i + 1] + y_r[i + 1])*alpha[i + 1] - (-y_l[i] + y_r[i])*alpha[i] + y_r[i + 1] - y_r[i])**2/((-x_l[i + 1] + x_r[i + 1])*alpha[i + 1] - (-x_l[i] + x_r[i])*alpha[i] + x_r[i + 1] - x_r[i])**2))/sqrt(((-x_l[i + 1] + x_r[i + 1])*alpha[i + 1] - (-x_l[i] + x_r[i])*alpha[i] + x_r[i + 1] - x_r[i])**2 + ((-y_l[i + 1] + y_r[i + 1])*alpha[i + 1] - (-y_l[i] + y_r[i])*alpha[i] + y_r[i + 1] - y_r[i])**2) + k_p*(-(2*x_l[i] - 2*x_r[i])*((-x_l[i + 1] + x_r[i + 1])*alpha[i + 1] - (-x_l[i] + x_r[i])*alpha[i] + x_r[i + 1] - x_r[i])/2 - (2*y_l[i] - 2*y_r[i])*((-y_l[i + 1] + y_r[i + 1])*alpha[i + 1] - (-y_l[i] + y_r[i])*alpha[i] + y_r[i + 1] - y_r[i])/2)*(atan(((-y_l[i + 1] + y_r[i + 1])*alpha[i + 1] - (-y_l[i] + y_r[i])*alpha[i] + y_r[i + 1] - y_r[i])/((-x_l[i + 1] + x_r[i + 1])*alpha[i + 1] - (-x_l[i] + x_r[i])*alpha[i] + x_r[i + 1] - x_r[i])) - atan((-(-y_l[i - 1] + y_r[i - 1])*alpha[i - 1] + (-y_l[i] + y_r[i])*alpha[i] - y_r[i - 1] + y_r[i])/(-(-x_l[i - 1] + x_r[i - 1])*alpha[i - 1] + (-x_l[i] + x_r[i])*alpha[i] - x_r[i - 1] + x_r[i])))/(((-x_l[i + 1] + x_r[i + 1])*alpha[i + 1] - (-x_l[i] + x_r[i])*alpha[i] + x_r[i + 1] - x_r[i])**2 + ((-y_l[i + 1] + y_r[i + 1])*alpha[i + 1] - (-y_l[i] + y_r[i])*alpha[i] + y_r[i + 1] - y_r[i])**2)**(3/2)"
      ]
     },
     "execution_count": 9,
     "metadata": {},
     "output_type": "execute_result"
    }
   ],
   "source": [
    "d = J.diff(a[i])\n",
    "d"
   ]
  },
  {
   "cell_type": "code",
   "execution_count": 10,
   "metadata": {},
   "outputs": [],
   "source": [
    "gradient_code = sympy.ccode(d) \\\n",
    "    .replace(\"x_l[i]\", \"leftpoints(idx, 1)\") \\\n",
    "    .replace(\"x_l[i + 1]\", \"leftpoints(idx+1, 1)\") \\\n",
    "    .replace(\"x_r[i]\", \"rightpoints(idx, 1)\") \\\n",
    "    .replace(\"x_r[i + 1]\", \"rightpoints(idx+1, 1)\") \\\n",
    "    .replace(\"y_l[i]\", \"leftpoints(idx, 2)\") \\\n",
    "    .replace(\"y_l[i + 1]\", \"leftpoints(idx+1, 2)\") \\\n",
    "    .replace(\"y_r[i]\", \"rightpoints(idx, 2)\") \\\n",
    "    .replace(\"y_r[i + 1]\", \"rightpoints(idx+1, 2)\") \\\n",
    "    .replace(\"x_l[i - 1]\", \"leftpoints(idx-1, 1)\") \\\n",
    "    .replace(\"y_l[i - 1]\", \"leftpoints(idx-1, 2)\") \\\n",
    "    .replace(\"x_r[i - 1]\", \"rightpoints(idx-1, 1)\") \\\n",
    "    .replace(\"y_r[i - 1]\", \"rightpoints(idx-1, 2)\") \\\n",
    "    .replace(\"alpha[i]\", \"alpha(idx)\") \\\n",
    "    .replace(\"alpha[i+1]\", \"alpha(idx+1)\") \\\n",
    "    .replace(\"alpha[i-1]\", \"alpha(idx-1)\") \\\n",
    "    .replace(\"pow\", \"power\")"
   ]
  },
  {
   "cell_type": "code",
   "execution_count": 11,
   "metadata": {},
   "outputs": [
    {
     "data": {
      "text/plain": [
       "'k_l*((2*leftpoints(idx, 1) - 2*rightpoints(idx, 1))*((-leftpoints(idx+1, 1) + rightpoints(idx+1, 1))*alpha[i + 1] - (-leftpoints(idx, 1) + rightpoints(idx, 1))*alpha(idx) + rightpoints(idx+1, 1) - rightpoints(idx, 1)) + (2*leftpoints(idx, 2) - 2*rightpoints(idx, 2))*((-leftpoints(idx+1, 2) + rightpoints(idx+1, 2))*alpha[i + 1] - (-leftpoints(idx, 2) + rightpoints(idx, 2))*alpha(idx) + rightpoints(idx+1, 2) - rightpoints(idx, 2))) + k_p*(-((leftpoints(idx, 1) - rightpoints(idx, 1))*(-(-leftpoints(idx-1, 2) + rightpoints(idx-1, 2))*alpha[i - 1] + (-leftpoints(idx, 2) + rightpoints(idx, 2))*alpha(idx) - rightpoints(idx-1, 2) + rightpoints(idx, 2))/power(-(-leftpoints(idx-1, 1) + rightpoints(idx-1, 1))*alpha[i - 1] + (-leftpoints(idx, 1) + rightpoints(idx, 1))*alpha(idx) - rightpoints(idx-1, 1) + rightpoints(idx, 1), 2) + (-leftpoints(idx, 2) + rightpoints(idx, 2))/(-(-leftpoints(idx-1, 1) + rightpoints(idx-1, 1))*alpha[i - 1] + (-leftpoints(idx, 1) + rightpoints(idx, 1))*alpha(idx) - rightpoints(idx-1, 1) + rightpoints(idx, 1)))/(1 + power(-(-leftpoints(idx-1, 2) + rightpoints(idx-1, 2))*alpha[i - 1] + (-leftpoints(idx, 2) + rightpoints(idx, 2))*alpha(idx) - rightpoints(idx-1, 2) + rightpoints(idx, 2), 2)/power(-(-leftpoints(idx-1, 1) + rightpoints(idx-1, 1))*alpha[i - 1] + (-leftpoints(idx, 1) + rightpoints(idx, 1))*alpha(idx) - rightpoints(idx-1, 1) + rightpoints(idx, 1), 2)) + ((-leftpoints(idx, 1) + rightpoints(idx, 1))*((-leftpoints(idx+1, 2) + rightpoints(idx+1, 2))*alpha[i + 1] - (-leftpoints(idx, 2) + rightpoints(idx, 2))*alpha(idx) + rightpoints(idx+1, 2) - rightpoints(idx, 2))/power((-leftpoints(idx+1, 1) + rightpoints(idx+1, 1))*alpha[i + 1] - (-leftpoints(idx, 1) + rightpoints(idx, 1))*alpha(idx) + rightpoints(idx+1, 1) - rightpoints(idx, 1), 2) + (leftpoints(idx, 2) - rightpoints(idx, 2))/((-leftpoints(idx+1, 1) + rightpoints(idx+1, 1))*alpha[i + 1] - (-leftpoints(idx, 1) + rightpoints(idx, 1))*alpha(idx) + rightpoints(idx+1, 1) - rightpoints(idx, 1)))/(1 + power((-leftpoints(idx+1, 2) + rightpoints(idx+1, 2))*alpha[i + 1] - (-leftpoints(idx, 2) + rightpoints(idx, 2))*alpha(idx) + rightpoints(idx+1, 2) - rightpoints(idx, 2), 2)/power((-leftpoints(idx+1, 1) + rightpoints(idx+1, 1))*alpha[i + 1] - (-leftpoints(idx, 1) + rightpoints(idx, 1))*alpha(idx) + rightpoints(idx+1, 1) - rightpoints(idx, 1), 2)))/sqrt(power((-leftpoints(idx+1, 1) + rightpoints(idx+1, 1))*alpha[i + 1] - (-leftpoints(idx, 1) + rightpoints(idx, 1))*alpha(idx) + rightpoints(idx+1, 1) - rightpoints(idx, 1), 2) + power((-leftpoints(idx+1, 2) + rightpoints(idx+1, 2))*alpha[i + 1] - (-leftpoints(idx, 2) + rightpoints(idx, 2))*alpha(idx) + rightpoints(idx+1, 2) - rightpoints(idx, 2), 2)) + k_p*(-1.0/2.0*(2*leftpoints(idx, 1) - 2*rightpoints(idx, 1))*((-leftpoints(idx+1, 1) + rightpoints(idx+1, 1))*alpha[i + 1] - (-leftpoints(idx, 1) + rightpoints(idx, 1))*alpha(idx) + rightpoints(idx+1, 1) - rightpoints(idx, 1)) - 1.0/2.0*(2*leftpoints(idx, 2) - 2*rightpoints(idx, 2))*((-leftpoints(idx+1, 2) + rightpoints(idx+1, 2))*alpha[i + 1] - (-leftpoints(idx, 2) + rightpoints(idx, 2))*alpha(idx) + rightpoints(idx+1, 2) - rightpoints(idx, 2)))*(atan(((-leftpoints(idx+1, 2) + rightpoints(idx+1, 2))*alpha[i + 1] - (-leftpoints(idx, 2) + rightpoints(idx, 2))*alpha(idx) + rightpoints(idx+1, 2) - rightpoints(idx, 2))/((-leftpoints(idx+1, 1) + rightpoints(idx+1, 1))*alpha[i + 1] - (-leftpoints(idx, 1) + rightpoints(idx, 1))*alpha(idx) + rightpoints(idx+1, 1) - rightpoints(idx, 1))) - atan((-(-leftpoints(idx-1, 2) + rightpoints(idx-1, 2))*alpha[i - 1] + (-leftpoints(idx, 2) + rightpoints(idx, 2))*alpha(idx) - rightpoints(idx-1, 2) + rightpoints(idx, 2))/(-(-leftpoints(idx-1, 1) + rightpoints(idx-1, 1))*alpha[i - 1] + (-leftpoints(idx, 1) + rightpoints(idx, 1))*alpha(idx) - rightpoints(idx-1, 1) + rightpoints(idx, 1))))/power(power((-leftpoints(idx+1, 1) + rightpoints(idx+1, 1))*alpha[i + 1] - (-leftpoints(idx, 1) + rightpoints(idx, 1))*alpha(idx) + rightpoints(idx+1, 1) - rightpoints(idx, 1), 2) + power((-leftpoints(idx+1, 2) + rightpoints(idx+1, 2))*alpha[i + 1] - (-leftpoints(idx, 2) + rightpoints(idx, 2))*alpha(idx) + rightpoints(idx+1, 2) - rightpoints(idx, 2), 2), 3.0/2.0)'"
      ]
     },
     "execution_count": 11,
     "metadata": {},
     "output_type": "execute_result"
    }
   ],
   "source": [
    "gradient_code"
   ]
  },
  {
   "cell_type": "markdown",
   "metadata": {},
   "source": [
    "## Hessian"
   ]
  },
  {
   "cell_type": "code",
   "execution_count": 12,
   "metadata": {},
   "outputs": [],
   "source": [
    "hessian = d.diff(a[i])"
   ]
  },
  {
   "cell_type": "code",
   "execution_count": 13,
   "metadata": {},
   "outputs": [
    {
     "data": {
      "text/latex": [
       "$\\displaystyle k_{l} \\left(\\left({x_{l}}_{i} - {x_{r}}_{i}\\right) \\left(2 {x_{l}}_{i} - 2 {x_{r}}_{i}\\right) + \\left({y_{l}}_{i} - {y_{r}}_{i}\\right) \\left(2 {y_{l}}_{i} - 2 {y_{r}}_{i}\\right)\\right) + \\frac{2 k_{p} \\left(- \\frac{\\frac{\\left({x_{l}}_{i} - {x_{r}}_{i}\\right) \\left(- \\left(- {y_{l}}_{i - 1} + {y_{r}}_{i - 1}\\right) {\\alpha}_{i - 1} + \\left(- {y_{l}}_{i} + {y_{r}}_{i}\\right) {\\alpha}_{i} - {y_{r}}_{i - 1} + {y_{r}}_{i}\\right)}{\\left(- \\left(- {x_{l}}_{i - 1} + {x_{r}}_{i - 1}\\right) {\\alpha}_{i - 1} + \\left(- {x_{l}}_{i} + {x_{r}}_{i}\\right) {\\alpha}_{i} - {x_{r}}_{i - 1} + {x_{r}}_{i}\\right)^{2}} + \\frac{- {y_{l}}_{i} + {y_{r}}_{i}}{- \\left(- {x_{l}}_{i - 1} + {x_{r}}_{i - 1}\\right) {\\alpha}_{i - 1} + \\left(- {x_{l}}_{i} + {x_{r}}_{i}\\right) {\\alpha}_{i} - {x_{r}}_{i - 1} + {x_{r}}_{i}}}{1 + \\frac{\\left(- \\left(- {y_{l}}_{i - 1} + {y_{r}}_{i - 1}\\right) {\\alpha}_{i - 1} + \\left(- {y_{l}}_{i} + {y_{r}}_{i}\\right) {\\alpha}_{i} - {y_{r}}_{i - 1} + {y_{r}}_{i}\\right)^{2}}{\\left(- \\left(- {x_{l}}_{i - 1} + {x_{r}}_{i - 1}\\right) {\\alpha}_{i - 1} + \\left(- {x_{l}}_{i} + {x_{r}}_{i}\\right) {\\alpha}_{i} - {x_{r}}_{i - 1} + {x_{r}}_{i}\\right)^{2}}} + \\frac{\\frac{\\left(- {x_{l}}_{i} + {x_{r}}_{i}\\right) \\left(\\left(- {y_{l}}_{i + 1} + {y_{r}}_{i + 1}\\right) {\\alpha}_{i + 1} - \\left(- {y_{l}}_{i} + {y_{r}}_{i}\\right) {\\alpha}_{i} + {y_{r}}_{i + 1} - {y_{r}}_{i}\\right)}{\\left(\\left(- {x_{l}}_{i + 1} + {x_{r}}_{i + 1}\\right) {\\alpha}_{i + 1} - \\left(- {x_{l}}_{i} + {x_{r}}_{i}\\right) {\\alpha}_{i} + {x_{r}}_{i + 1} - {x_{r}}_{i}\\right)^{2}} + \\frac{{y_{l}}_{i} - {y_{r}}_{i}}{\\left(- {x_{l}}_{i + 1} + {x_{r}}_{i + 1}\\right) {\\alpha}_{i + 1} - \\left(- {x_{l}}_{i} + {x_{r}}_{i}\\right) {\\alpha}_{i} + {x_{r}}_{i + 1} - {x_{r}}_{i}}}{1 + \\frac{\\left(\\left(- {y_{l}}_{i + 1} + {y_{r}}_{i + 1}\\right) {\\alpha}_{i + 1} - \\left(- {y_{l}}_{i} + {y_{r}}_{i}\\right) {\\alpha}_{i} + {y_{r}}_{i + 1} - {y_{r}}_{i}\\right)^{2}}{\\left(\\left(- {x_{l}}_{i + 1} + {x_{r}}_{i + 1}\\right) {\\alpha}_{i + 1} - \\left(- {x_{l}}_{i} + {x_{r}}_{i}\\right) {\\alpha}_{i} + {x_{r}}_{i + 1} - {x_{r}}_{i}\\right)^{2}}}\\right) \\left(- \\frac{\\left(2 {x_{l}}_{i} - 2 {x_{r}}_{i}\\right) \\left(\\left(- {x_{l}}_{i + 1} + {x_{r}}_{i + 1}\\right) {\\alpha}_{i + 1} - \\left(- {x_{l}}_{i} + {x_{r}}_{i}\\right) {\\alpha}_{i} + {x_{r}}_{i + 1} - {x_{r}}_{i}\\right)}{2} - \\frac{\\left(2 {y_{l}}_{i} - 2 {y_{r}}_{i}\\right) \\left(\\left(- {y_{l}}_{i + 1} + {y_{r}}_{i + 1}\\right) {\\alpha}_{i + 1} - \\left(- {y_{l}}_{i} + {y_{r}}_{i}\\right) {\\alpha}_{i} + {y_{r}}_{i + 1} - {y_{r}}_{i}\\right)}{2}\\right)}{\\left(\\left(\\left(- {x_{l}}_{i + 1} + {x_{r}}_{i + 1}\\right) {\\alpha}_{i + 1} - \\left(- {x_{l}}_{i} + {x_{r}}_{i}\\right) {\\alpha}_{i} + {x_{r}}_{i + 1} - {x_{r}}_{i}\\right)^{2} + \\left(\\left(- {y_{l}}_{i + 1} + {y_{r}}_{i + 1}\\right) {\\alpha}_{i + 1} - \\left(- {y_{l}}_{i} + {y_{r}}_{i}\\right) {\\alpha}_{i} + {y_{r}}_{i + 1} - {y_{r}}_{i}\\right)^{2}\\right)^{\\frac{3}{2}}} + \\frac{k_{p} \\left(\\left(- {x_{l}}_{i} + {x_{r}}_{i}\\right) \\left({x_{l}}_{i} - {x_{r}}_{i}\\right) + \\left(- {y_{l}}_{i} + {y_{r}}_{i}\\right) \\left({y_{l}}_{i} - {y_{r}}_{i}\\right)\\right) \\left(\\operatorname{atan}{\\left(\\frac{\\left(- {y_{l}}_{i + 1} + {y_{r}}_{i + 1}\\right) {\\alpha}_{i + 1} - \\left(- {y_{l}}_{i} + {y_{r}}_{i}\\right) {\\alpha}_{i} + {y_{r}}_{i + 1} - {y_{r}}_{i}}{\\left(- {x_{l}}_{i + 1} + {x_{r}}_{i + 1}\\right) {\\alpha}_{i + 1} - \\left(- {x_{l}}_{i} + {x_{r}}_{i}\\right) {\\alpha}_{i} + {x_{r}}_{i + 1} - {x_{r}}_{i}} \\right)} - \\operatorname{atan}{\\left(\\frac{- \\left(- {y_{l}}_{i - 1} + {y_{r}}_{i - 1}\\right) {\\alpha}_{i - 1} + \\left(- {y_{l}}_{i} + {y_{r}}_{i}\\right) {\\alpha}_{i} - {y_{r}}_{i - 1} + {y_{r}}_{i}}{- \\left(- {x_{l}}_{i - 1} + {x_{r}}_{i - 1}\\right) {\\alpha}_{i - 1} + \\left(- {x_{l}}_{i} + {x_{r}}_{i}\\right) {\\alpha}_{i} - {x_{r}}_{i - 1} + {x_{r}}_{i}} \\right)}\\right)}{\\left(\\left(\\left(- {x_{l}}_{i + 1} + {x_{r}}_{i + 1}\\right) {\\alpha}_{i + 1} - \\left(- {x_{l}}_{i} + {x_{r}}_{i}\\right) {\\alpha}_{i} + {x_{r}}_{i + 1} - {x_{r}}_{i}\\right)^{2} + \\left(\\left(- {y_{l}}_{i + 1} + {y_{r}}_{i + 1}\\right) {\\alpha}_{i + 1} - \\left(- {y_{l}}_{i} + {y_{r}}_{i}\\right) {\\alpha}_{i} + {y_{r}}_{i + 1} - {y_{r}}_{i}\\right)^{2}\\right)^{\\frac{3}{2}}} + \\frac{k_{p} \\left(- \\frac{3 \\left(2 {x_{l}}_{i} - 2 {x_{r}}_{i}\\right) \\left(\\left(- {x_{l}}_{i + 1} + {x_{r}}_{i + 1}\\right) {\\alpha}_{i + 1} - \\left(- {x_{l}}_{i} + {x_{r}}_{i}\\right) {\\alpha}_{i} + {x_{r}}_{i + 1} - {x_{r}}_{i}\\right)}{2} - \\frac{3 \\left(2 {y_{l}}_{i} - 2 {y_{r}}_{i}\\right) \\left(\\left(- {y_{l}}_{i + 1} + {y_{r}}_{i + 1}\\right) {\\alpha}_{i + 1} - \\left(- {y_{l}}_{i} + {y_{r}}_{i}\\right) {\\alpha}_{i} + {y_{r}}_{i + 1} - {y_{r}}_{i}\\right)}{2}\\right) \\left(- \\frac{\\left(2 {x_{l}}_{i} - 2 {x_{r}}_{i}\\right) \\left(\\left(- {x_{l}}_{i + 1} + {x_{r}}_{i + 1}\\right) {\\alpha}_{i + 1} - \\left(- {x_{l}}_{i} + {x_{r}}_{i}\\right) {\\alpha}_{i} + {x_{r}}_{i + 1} - {x_{r}}_{i}\\right)}{2} - \\frac{\\left(2 {y_{l}}_{i} - 2 {y_{r}}_{i}\\right) \\left(\\left(- {y_{l}}_{i + 1} + {y_{r}}_{i + 1}\\right) {\\alpha}_{i + 1} - \\left(- {y_{l}}_{i} + {y_{r}}_{i}\\right) {\\alpha}_{i} + {y_{r}}_{i + 1} - {y_{r}}_{i}\\right)}{2}\\right) \\left(\\operatorname{atan}{\\left(\\frac{\\left(- {y_{l}}_{i + 1} + {y_{r}}_{i + 1}\\right) {\\alpha}_{i + 1} - \\left(- {y_{l}}_{i} + {y_{r}}_{i}\\right) {\\alpha}_{i} + {y_{r}}_{i + 1} - {y_{r}}_{i}}{\\left(- {x_{l}}_{i + 1} + {x_{r}}_{i + 1}\\right) {\\alpha}_{i + 1} - \\left(- {x_{l}}_{i} + {x_{r}}_{i}\\right) {\\alpha}_{i} + {x_{r}}_{i + 1} - {x_{r}}_{i}} \\right)} - \\operatorname{atan}{\\left(\\frac{- \\left(- {y_{l}}_{i - 1} + {y_{r}}_{i - 1}\\right) {\\alpha}_{i - 1} + \\left(- {y_{l}}_{i} + {y_{r}}_{i}\\right) {\\alpha}_{i} - {y_{r}}_{i - 1} + {y_{r}}_{i}}{- \\left(- {x_{l}}_{i - 1} + {x_{r}}_{i - 1}\\right) {\\alpha}_{i - 1} + \\left(- {x_{l}}_{i} + {x_{r}}_{i}\\right) {\\alpha}_{i} - {x_{r}}_{i - 1} + {x_{r}}_{i}} \\right)}\\right)}{\\left(\\left(\\left(- {x_{l}}_{i + 1} + {x_{r}}_{i + 1}\\right) {\\alpha}_{i + 1} - \\left(- {x_{l}}_{i} + {x_{r}}_{i}\\right) {\\alpha}_{i} + {x_{r}}_{i + 1} - {x_{r}}_{i}\\right)^{2} + \\left(\\left(- {y_{l}}_{i + 1} + {y_{r}}_{i + 1}\\right) {\\alpha}_{i + 1} - \\left(- {y_{l}}_{i} + {y_{r}}_{i}\\right) {\\alpha}_{i} + {y_{r}}_{i + 1} - {y_{r}}_{i}\\right)^{2}\\right)^{\\frac{5}{2}}} + \\frac{k_{p} \\left(- \\frac{\\frac{\\left({x_{l}}_{i} - {x_{r}}_{i}\\right) \\left(2 {x_{l}}_{i} - 2 {x_{r}}_{i}\\right) \\left(- \\left(- {y_{l}}_{i - 1} + {y_{r}}_{i - 1}\\right) {\\alpha}_{i - 1} + \\left(- {y_{l}}_{i} + {y_{r}}_{i}\\right) {\\alpha}_{i} - {y_{r}}_{i - 1} + {y_{r}}_{i}\\right)}{\\left(- \\left(- {x_{l}}_{i - 1} + {x_{r}}_{i - 1}\\right) {\\alpha}_{i - 1} + \\left(- {x_{l}}_{i} + {x_{r}}_{i}\\right) {\\alpha}_{i} - {x_{r}}_{i - 1} + {x_{r}}_{i}\\right)^{3}} + \\frac{2 \\left({x_{l}}_{i} - {x_{r}}_{i}\\right) \\left(- {y_{l}}_{i} + {y_{r}}_{i}\\right)}{\\left(- \\left(- {x_{l}}_{i - 1} + {x_{r}}_{i - 1}\\right) {\\alpha}_{i - 1} + \\left(- {x_{l}}_{i} + {x_{r}}_{i}\\right) {\\alpha}_{i} - {x_{r}}_{i - 1} + {x_{r}}_{i}\\right)^{2}}}{1 + \\frac{\\left(- \\left(- {y_{l}}_{i - 1} + {y_{r}}_{i - 1}\\right) {\\alpha}_{i - 1} + \\left(- {y_{l}}_{i} + {y_{r}}_{i}\\right) {\\alpha}_{i} - {y_{r}}_{i - 1} + {y_{r}}_{i}\\right)^{2}}{\\left(- \\left(- {x_{l}}_{i - 1} + {x_{r}}_{i - 1}\\right) {\\alpha}_{i - 1} + \\left(- {x_{l}}_{i} + {x_{r}}_{i}\\right) {\\alpha}_{i} - {x_{r}}_{i - 1} + {x_{r}}_{i}\\right)^{2}}} - \\frac{\\left(\\frac{\\left({x_{l}}_{i} - {x_{r}}_{i}\\right) \\left(- \\left(- {y_{l}}_{i - 1} + {y_{r}}_{i - 1}\\right) {\\alpha}_{i - 1} + \\left(- {y_{l}}_{i} + {y_{r}}_{i}\\right) {\\alpha}_{i} - {y_{r}}_{i - 1} + {y_{r}}_{i}\\right)}{\\left(- \\left(- {x_{l}}_{i - 1} + {x_{r}}_{i - 1}\\right) {\\alpha}_{i - 1} + \\left(- {x_{l}}_{i} + {x_{r}}_{i}\\right) {\\alpha}_{i} - {x_{r}}_{i - 1} + {x_{r}}_{i}\\right)^{2}} + \\frac{- {y_{l}}_{i} + {y_{r}}_{i}}{- \\left(- {x_{l}}_{i - 1} + {x_{r}}_{i - 1}\\right) {\\alpha}_{i - 1} + \\left(- {x_{l}}_{i} + {x_{r}}_{i}\\right) {\\alpha}_{i} - {x_{r}}_{i - 1} + {x_{r}}_{i}}\\right) \\left(- \\frac{\\left(2 {x_{l}}_{i} - 2 {x_{r}}_{i}\\right) \\left(- \\left(- {y_{l}}_{i - 1} + {y_{r}}_{i - 1}\\right) {\\alpha}_{i - 1} + \\left(- {y_{l}}_{i} + {y_{r}}_{i}\\right) {\\alpha}_{i} - {y_{r}}_{i - 1} + {y_{r}}_{i}\\right)^{2}}{\\left(- \\left(- {x_{l}}_{i - 1} + {x_{r}}_{i - 1}\\right) {\\alpha}_{i - 1} + \\left(- {x_{l}}_{i} + {x_{r}}_{i}\\right) {\\alpha}_{i} - {x_{r}}_{i - 1} + {x_{r}}_{i}\\right)^{3}} - \\frac{\\left(- 2 {y_{l}}_{i} + 2 {y_{r}}_{i}\\right) \\left(- \\left(- {y_{l}}_{i - 1} + {y_{r}}_{i - 1}\\right) {\\alpha}_{i - 1} + \\left(- {y_{l}}_{i} + {y_{r}}_{i}\\right) {\\alpha}_{i} - {y_{r}}_{i - 1} + {y_{r}}_{i}\\right)}{\\left(- \\left(- {x_{l}}_{i - 1} + {x_{r}}_{i - 1}\\right) {\\alpha}_{i - 1} + \\left(- {x_{l}}_{i} + {x_{r}}_{i}\\right) {\\alpha}_{i} - {x_{r}}_{i - 1} + {x_{r}}_{i}\\right)^{2}}\\right)}{\\left(1 + \\frac{\\left(- \\left(- {y_{l}}_{i - 1} + {y_{r}}_{i - 1}\\right) {\\alpha}_{i - 1} + \\left(- {y_{l}}_{i} + {y_{r}}_{i}\\right) {\\alpha}_{i} - {y_{r}}_{i - 1} + {y_{r}}_{i}\\right)^{2}}{\\left(- \\left(- {x_{l}}_{i - 1} + {x_{r}}_{i - 1}\\right) {\\alpha}_{i - 1} + \\left(- {x_{l}}_{i} + {x_{r}}_{i}\\right) {\\alpha}_{i} - {x_{r}}_{i - 1} + {x_{r}}_{i}\\right)^{2}}\\right)^{2}} + \\frac{\\frac{\\left(- 2 {x_{l}}_{i} + 2 {x_{r}}_{i}\\right) \\left(- {x_{l}}_{i} + {x_{r}}_{i}\\right) \\left(\\left(- {y_{l}}_{i + 1} + {y_{r}}_{i + 1}\\right) {\\alpha}_{i + 1} - \\left(- {y_{l}}_{i} + {y_{r}}_{i}\\right) {\\alpha}_{i} + {y_{r}}_{i + 1} - {y_{r}}_{i}\\right)}{\\left(\\left(- {x_{l}}_{i + 1} + {x_{r}}_{i + 1}\\right) {\\alpha}_{i + 1} - \\left(- {x_{l}}_{i} + {x_{r}}_{i}\\right) {\\alpha}_{i} + {x_{r}}_{i + 1} - {x_{r}}_{i}\\right)^{3}} + \\frac{2 \\left(- {x_{l}}_{i} + {x_{r}}_{i}\\right) \\left({y_{l}}_{i} - {y_{r}}_{i}\\right)}{\\left(\\left(- {x_{l}}_{i + 1} + {x_{r}}_{i + 1}\\right) {\\alpha}_{i + 1} - \\left(- {x_{l}}_{i} + {x_{r}}_{i}\\right) {\\alpha}_{i} + {x_{r}}_{i + 1} - {x_{r}}_{i}\\right)^{2}}}{1 + \\frac{\\left(\\left(- {y_{l}}_{i + 1} + {y_{r}}_{i + 1}\\right) {\\alpha}_{i + 1} - \\left(- {y_{l}}_{i} + {y_{r}}_{i}\\right) {\\alpha}_{i} + {y_{r}}_{i + 1} - {y_{r}}_{i}\\right)^{2}}{\\left(\\left(- {x_{l}}_{i + 1} + {x_{r}}_{i + 1}\\right) {\\alpha}_{i + 1} - \\left(- {x_{l}}_{i} + {x_{r}}_{i}\\right) {\\alpha}_{i} + {x_{r}}_{i + 1} - {x_{r}}_{i}\\right)^{2}}} + \\frac{\\left(- \\frac{\\left(- 2 {x_{l}}_{i} + 2 {x_{r}}_{i}\\right) \\left(\\left(- {y_{l}}_{i + 1} + {y_{r}}_{i + 1}\\right) {\\alpha}_{i + 1} - \\left(- {y_{l}}_{i} + {y_{r}}_{i}\\right) {\\alpha}_{i} + {y_{r}}_{i + 1} - {y_{r}}_{i}\\right)^{2}}{\\left(\\left(- {x_{l}}_{i + 1} + {x_{r}}_{i + 1}\\right) {\\alpha}_{i + 1} - \\left(- {x_{l}}_{i} + {x_{r}}_{i}\\right) {\\alpha}_{i} + {x_{r}}_{i + 1} - {x_{r}}_{i}\\right)^{3}} - \\frac{\\left(2 {y_{l}}_{i} - 2 {y_{r}}_{i}\\right) \\left(\\left(- {y_{l}}_{i + 1} + {y_{r}}_{i + 1}\\right) {\\alpha}_{i + 1} - \\left(- {y_{l}}_{i} + {y_{r}}_{i}\\right) {\\alpha}_{i} + {y_{r}}_{i + 1} - {y_{r}}_{i}\\right)}{\\left(\\left(- {x_{l}}_{i + 1} + {x_{r}}_{i + 1}\\right) {\\alpha}_{i + 1} - \\left(- {x_{l}}_{i} + {x_{r}}_{i}\\right) {\\alpha}_{i} + {x_{r}}_{i + 1} - {x_{r}}_{i}\\right)^{2}}\\right) \\left(\\frac{\\left(- {x_{l}}_{i} + {x_{r}}_{i}\\right) \\left(\\left(- {y_{l}}_{i + 1} + {y_{r}}_{i + 1}\\right) {\\alpha}_{i + 1} - \\left(- {y_{l}}_{i} + {y_{r}}_{i}\\right) {\\alpha}_{i} + {y_{r}}_{i + 1} - {y_{r}}_{i}\\right)}{\\left(\\left(- {x_{l}}_{i + 1} + {x_{r}}_{i + 1}\\right) {\\alpha}_{i + 1} - \\left(- {x_{l}}_{i} + {x_{r}}_{i}\\right) {\\alpha}_{i} + {x_{r}}_{i + 1} - {x_{r}}_{i}\\right)^{2}} + \\frac{{y_{l}}_{i} - {y_{r}}_{i}}{\\left(- {x_{l}}_{i + 1} + {x_{r}}_{i + 1}\\right) {\\alpha}_{i + 1} - \\left(- {x_{l}}_{i} + {x_{r}}_{i}\\right) {\\alpha}_{i} + {x_{r}}_{i + 1} - {x_{r}}_{i}}\\right)}{\\left(1 + \\frac{\\left(\\left(- {y_{l}}_{i + 1} + {y_{r}}_{i + 1}\\right) {\\alpha}_{i + 1} - \\left(- {y_{l}}_{i} + {y_{r}}_{i}\\right) {\\alpha}_{i} + {y_{r}}_{i + 1} - {y_{r}}_{i}\\right)^{2}}{\\left(\\left(- {x_{l}}_{i + 1} + {x_{r}}_{i + 1}\\right) {\\alpha}_{i + 1} - \\left(- {x_{l}}_{i} + {x_{r}}_{i}\\right) {\\alpha}_{i} + {x_{r}}_{i + 1} - {x_{r}}_{i}\\right)^{2}}\\right)^{2}}\\right)}{\\sqrt{\\left(\\left(- {x_{l}}_{i + 1} + {x_{r}}_{i + 1}\\right) {\\alpha}_{i + 1} - \\left(- {x_{l}}_{i} + {x_{r}}_{i}\\right) {\\alpha}_{i} + {x_{r}}_{i + 1} - {x_{r}}_{i}\\right)^{2} + \\left(\\left(- {y_{l}}_{i + 1} + {y_{r}}_{i + 1}\\right) {\\alpha}_{i + 1} - \\left(- {y_{l}}_{i} + {y_{r}}_{i}\\right) {\\alpha}_{i} + {y_{r}}_{i + 1} - {y_{r}}_{i}\\right)^{2}}}$"
      ],
      "text/plain": [
       "k_l*((x_l[i] - x_r[i])*(2*x_l[i] - 2*x_r[i]) + (y_l[i] - y_r[i])*(2*y_l[i] - 2*y_r[i])) + 2*k_p*(-((x_l[i] - x_r[i])*(-(-y_l[i - 1] + y_r[i - 1])*alpha[i - 1] + (-y_l[i] + y_r[i])*alpha[i] - y_r[i - 1] + y_r[i])/(-(-x_l[i - 1] + x_r[i - 1])*alpha[i - 1] + (-x_l[i] + x_r[i])*alpha[i] - x_r[i - 1] + x_r[i])**2 + (-y_l[i] + y_r[i])/(-(-x_l[i - 1] + x_r[i - 1])*alpha[i - 1] + (-x_l[i] + x_r[i])*alpha[i] - x_r[i - 1] + x_r[i]))/(1 + (-(-y_l[i - 1] + y_r[i - 1])*alpha[i - 1] + (-y_l[i] + y_r[i])*alpha[i] - y_r[i - 1] + y_r[i])**2/(-(-x_l[i - 1] + x_r[i - 1])*alpha[i - 1] + (-x_l[i] + x_r[i])*alpha[i] - x_r[i - 1] + x_r[i])**2) + ((-x_l[i] + x_r[i])*((-y_l[i + 1] + y_r[i + 1])*alpha[i + 1] - (-y_l[i] + y_r[i])*alpha[i] + y_r[i + 1] - y_r[i])/((-x_l[i + 1] + x_r[i + 1])*alpha[i + 1] - (-x_l[i] + x_r[i])*alpha[i] + x_r[i + 1] - x_r[i])**2 + (y_l[i] - y_r[i])/((-x_l[i + 1] + x_r[i + 1])*alpha[i + 1] - (-x_l[i] + x_r[i])*alpha[i] + x_r[i + 1] - x_r[i]))/(1 + ((-y_l[i + 1] + y_r[i + 1])*alpha[i + 1] - (-y_l[i] + y_r[i])*alpha[i] + y_r[i + 1] - y_r[i])**2/((-x_l[i + 1] + x_r[i + 1])*alpha[i + 1] - (-x_l[i] + x_r[i])*alpha[i] + x_r[i + 1] - x_r[i])**2))*(-(2*x_l[i] - 2*x_r[i])*((-x_l[i + 1] + x_r[i + 1])*alpha[i + 1] - (-x_l[i] + x_r[i])*alpha[i] + x_r[i + 1] - x_r[i])/2 - (2*y_l[i] - 2*y_r[i])*((-y_l[i + 1] + y_r[i + 1])*alpha[i + 1] - (-y_l[i] + y_r[i])*alpha[i] + y_r[i + 1] - y_r[i])/2)/(((-x_l[i + 1] + x_r[i + 1])*alpha[i + 1] - (-x_l[i] + x_r[i])*alpha[i] + x_r[i + 1] - x_r[i])**2 + ((-y_l[i + 1] + y_r[i + 1])*alpha[i + 1] - (-y_l[i] + y_r[i])*alpha[i] + y_r[i + 1] - y_r[i])**2)**(3/2) + k_p*((-x_l[i] + x_r[i])*(x_l[i] - x_r[i]) + (-y_l[i] + y_r[i])*(y_l[i] - y_r[i]))*(atan(((-y_l[i + 1] + y_r[i + 1])*alpha[i + 1] - (-y_l[i] + y_r[i])*alpha[i] + y_r[i + 1] - y_r[i])/((-x_l[i + 1] + x_r[i + 1])*alpha[i + 1] - (-x_l[i] + x_r[i])*alpha[i] + x_r[i + 1] - x_r[i])) - atan((-(-y_l[i - 1] + y_r[i - 1])*alpha[i - 1] + (-y_l[i] + y_r[i])*alpha[i] - y_r[i - 1] + y_r[i])/(-(-x_l[i - 1] + x_r[i - 1])*alpha[i - 1] + (-x_l[i] + x_r[i])*alpha[i] - x_r[i - 1] + x_r[i])))/(((-x_l[i + 1] + x_r[i + 1])*alpha[i + 1] - (-x_l[i] + x_r[i])*alpha[i] + x_r[i + 1] - x_r[i])**2 + ((-y_l[i + 1] + y_r[i + 1])*alpha[i + 1] - (-y_l[i] + y_r[i])*alpha[i] + y_r[i + 1] - y_r[i])**2)**(3/2) + k_p*(-3*(2*x_l[i] - 2*x_r[i])*((-x_l[i + 1] + x_r[i + 1])*alpha[i + 1] - (-x_l[i] + x_r[i])*alpha[i] + x_r[i + 1] - x_r[i])/2 - 3*(2*y_l[i] - 2*y_r[i])*((-y_l[i + 1] + y_r[i + 1])*alpha[i + 1] - (-y_l[i] + y_r[i])*alpha[i] + y_r[i + 1] - y_r[i])/2)*(-(2*x_l[i] - 2*x_r[i])*((-x_l[i + 1] + x_r[i + 1])*alpha[i + 1] - (-x_l[i] + x_r[i])*alpha[i] + x_r[i + 1] - x_r[i])/2 - (2*y_l[i] - 2*y_r[i])*((-y_l[i + 1] + y_r[i + 1])*alpha[i + 1] - (-y_l[i] + y_r[i])*alpha[i] + y_r[i + 1] - y_r[i])/2)*(atan(((-y_l[i + 1] + y_r[i + 1])*alpha[i + 1] - (-y_l[i] + y_r[i])*alpha[i] + y_r[i + 1] - y_r[i])/((-x_l[i + 1] + x_r[i + 1])*alpha[i + 1] - (-x_l[i] + x_r[i])*alpha[i] + x_r[i + 1] - x_r[i])) - atan((-(-y_l[i - 1] + y_r[i - 1])*alpha[i - 1] + (-y_l[i] + y_r[i])*alpha[i] - y_r[i - 1] + y_r[i])/(-(-x_l[i - 1] + x_r[i - 1])*alpha[i - 1] + (-x_l[i] + x_r[i])*alpha[i] - x_r[i - 1] + x_r[i])))/(((-x_l[i + 1] + x_r[i + 1])*alpha[i + 1] - (-x_l[i] + x_r[i])*alpha[i] + x_r[i + 1] - x_r[i])**2 + ((-y_l[i + 1] + y_r[i + 1])*alpha[i + 1] - (-y_l[i] + y_r[i])*alpha[i] + y_r[i + 1] - y_r[i])**2)**(5/2) + k_p*(-((x_l[i] - x_r[i])*(2*x_l[i] - 2*x_r[i])*(-(-y_l[i - 1] + y_r[i - 1])*alpha[i - 1] + (-y_l[i] + y_r[i])*alpha[i] - y_r[i - 1] + y_r[i])/(-(-x_l[i - 1] + x_r[i - 1])*alpha[i - 1] + (-x_l[i] + x_r[i])*alpha[i] - x_r[i - 1] + x_r[i])**3 + 2*(x_l[i] - x_r[i])*(-y_l[i] + y_r[i])/(-(-x_l[i - 1] + x_r[i - 1])*alpha[i - 1] + (-x_l[i] + x_r[i])*alpha[i] - x_r[i - 1] + x_r[i])**2)/(1 + (-(-y_l[i - 1] + y_r[i - 1])*alpha[i - 1] + (-y_l[i] + y_r[i])*alpha[i] - y_r[i - 1] + y_r[i])**2/(-(-x_l[i - 1] + x_r[i - 1])*alpha[i - 1] + (-x_l[i] + x_r[i])*alpha[i] - x_r[i - 1] + x_r[i])**2) - ((x_l[i] - x_r[i])*(-(-y_l[i - 1] + y_r[i - 1])*alpha[i - 1] + (-y_l[i] + y_r[i])*alpha[i] - y_r[i - 1] + y_r[i])/(-(-x_l[i - 1] + x_r[i - 1])*alpha[i - 1] + (-x_l[i] + x_r[i])*alpha[i] - x_r[i - 1] + x_r[i])**2 + (-y_l[i] + y_r[i])/(-(-x_l[i - 1] + x_r[i - 1])*alpha[i - 1] + (-x_l[i] + x_r[i])*alpha[i] - x_r[i - 1] + x_r[i]))*(-(2*x_l[i] - 2*x_r[i])*(-(-y_l[i - 1] + y_r[i - 1])*alpha[i - 1] + (-y_l[i] + y_r[i])*alpha[i] - y_r[i - 1] + y_r[i])**2/(-(-x_l[i - 1] + x_r[i - 1])*alpha[i - 1] + (-x_l[i] + x_r[i])*alpha[i] - x_r[i - 1] + x_r[i])**3 - (-2*y_l[i] + 2*y_r[i])*(-(-y_l[i - 1] + y_r[i - 1])*alpha[i - 1] + (-y_l[i] + y_r[i])*alpha[i] - y_r[i - 1] + y_r[i])/(-(-x_l[i - 1] + x_r[i - 1])*alpha[i - 1] + (-x_l[i] + x_r[i])*alpha[i] - x_r[i - 1] + x_r[i])**2)/(1 + (-(-y_l[i - 1] + y_r[i - 1])*alpha[i - 1] + (-y_l[i] + y_r[i])*alpha[i] - y_r[i - 1] + y_r[i])**2/(-(-x_l[i - 1] + x_r[i - 1])*alpha[i - 1] + (-x_l[i] + x_r[i])*alpha[i] - x_r[i - 1] + x_r[i])**2)**2 + ((-2*x_l[i] + 2*x_r[i])*(-x_l[i] + x_r[i])*((-y_l[i + 1] + y_r[i + 1])*alpha[i + 1] - (-y_l[i] + y_r[i])*alpha[i] + y_r[i + 1] - y_r[i])/((-x_l[i + 1] + x_r[i + 1])*alpha[i + 1] - (-x_l[i] + x_r[i])*alpha[i] + x_r[i + 1] - x_r[i])**3 + 2*(-x_l[i] + x_r[i])*(y_l[i] - y_r[i])/((-x_l[i + 1] + x_r[i + 1])*alpha[i + 1] - (-x_l[i] + x_r[i])*alpha[i] + x_r[i + 1] - x_r[i])**2)/(1 + ((-y_l[i + 1] + y_r[i + 1])*alpha[i + 1] - (-y_l[i] + y_r[i])*alpha[i] + y_r[i + 1] - y_r[i])**2/((-x_l[i + 1] + x_r[i + 1])*alpha[i + 1] - (-x_l[i] + x_r[i])*alpha[i] + x_r[i + 1] - x_r[i])**2) + (-(-2*x_l[i] + 2*x_r[i])*((-y_l[i + 1] + y_r[i + 1])*alpha[i + 1] - (-y_l[i] + y_r[i])*alpha[i] + y_r[i + 1] - y_r[i])**2/((-x_l[i + 1] + x_r[i + 1])*alpha[i + 1] - (-x_l[i] + x_r[i])*alpha[i] + x_r[i + 1] - x_r[i])**3 - (2*y_l[i] - 2*y_r[i])*((-y_l[i + 1] + y_r[i + 1])*alpha[i + 1] - (-y_l[i] + y_r[i])*alpha[i] + y_r[i + 1] - y_r[i])/((-x_l[i + 1] + x_r[i + 1])*alpha[i + 1] - (-x_l[i] + x_r[i])*alpha[i] + x_r[i + 1] - x_r[i])**2)*((-x_l[i] + x_r[i])*((-y_l[i + 1] + y_r[i + 1])*alpha[i + 1] - (-y_l[i] + y_r[i])*alpha[i] + y_r[i + 1] - y_r[i])/((-x_l[i + 1] + x_r[i + 1])*alpha[i + 1] - (-x_l[i] + x_r[i])*alpha[i] + x_r[i + 1] - x_r[i])**2 + (y_l[i] - y_r[i])/((-x_l[i + 1] + x_r[i + 1])*alpha[i + 1] - (-x_l[i] + x_r[i])*alpha[i] + x_r[i + 1] - x_r[i]))/(1 + ((-y_l[i + 1] + y_r[i + 1])*alpha[i + 1] - (-y_l[i] + y_r[i])*alpha[i] + y_r[i + 1] - y_r[i])**2/((-x_l[i + 1] + x_r[i + 1])*alpha[i + 1] - (-x_l[i] + x_r[i])*alpha[i] + x_r[i + 1] - x_r[i])**2)**2)/sqrt(((-x_l[i + 1] + x_r[i + 1])*alpha[i + 1] - (-x_l[i] + x_r[i])*alpha[i] + x_r[i + 1] - x_r[i])**2 + ((-y_l[i + 1] + y_r[i + 1])*alpha[i + 1] - (-y_l[i] + y_r[i])*alpha[i] + y_r[i + 1] - y_r[i])**2)"
      ]
     },
     "execution_count": 13,
     "metadata": {},
     "output_type": "execute_result"
    }
   ],
   "source": [
    "hessian"
   ]
  },
  {
   "cell_type": "code",
   "execution_count": 14,
   "metadata": {},
   "outputs": [],
   "source": [
    "hessian_code = sympy.ccode(hessian) \\\n",
    "    .replace(\"x_l[i]\", \"leftpoints(idx, 1)\") \\\n",
    "    .replace(\"x_l[i + 1]\", \"leftpoints(idx+1, 1)\") \\\n",
    "    .replace(\"x_r[i]\", \"rightpoints(idx, 1)\") \\\n",
    "    .replace(\"x_r[i + 1]\", \"rightpoints(idx+1, 1)\") \\\n",
    "    .replace(\"y_l[i]\", \"leftpoints(idx, 2)\") \\\n",
    "    .replace(\"y_l[i + 1]\", \"leftpoints(idx+1, 2)\") \\\n",
    "    .replace(\"y_r[i]\", \"rightpoints(idx, 2)\") \\\n",
    "    .replace(\"y_r[i + 1]\", \"rightpoints(idx+1, 2)\") \\\n",
    "    .replace(\"x_l[i - 1]\", \"leftpoints(idx-1, 1)\") \\\n",
    "    .replace(\"y_l[i - 1]\", \"leftpoints(idx-1, 2)\") \\\n",
    "    .replace(\"x_r[i - 1]\", \"rightpoints(idx-1, 1)\") \\\n",
    "    .replace(\"y_r[i - 1]\", \"rightpoints(idx-1, 2)\") \\\n",
    "    .replace(\"alpha[i]\", \"alpha(idx)\") \\\n",
    "    .replace(\"alpha[i+1]\", \"alpha(idx+1)\") \\\n",
    "    .replace(\"alpha[i-1]\", \"alpha(idx-1)\") \\\n",
    "    .replace(\"pow\", \"power\")"
   ]
  },
  {
   "cell_type": "code",
   "execution_count": 16,
   "metadata": {},
   "outputs": [
    {
     "data": {
      "text/plain": [
       "'k_l*((leftpoints(idx, 1) - rightpoints(idx, 1))*(2*leftpoints(idx, 1) - 2*rightpoints(idx, 1)) + (leftpoints(idx, 2) - rightpoints(idx, 2))*(2*leftpoints(idx, 2) - 2*rightpoints(idx, 2))) + 2*k_p*(-((leftpoints(idx, 1) - rightpoints(idx, 1))*(-(-leftpoints(idx-1, 2) + rightpoints(idx-1, 2))*alpha[i - 1] + (-leftpoints(idx, 2) + rightpoints(idx, 2))*alpha(idx) - rightpoints(idx-1, 2) + rightpoints(idx, 2))/power(-(-leftpoints(idx-1, 1) + rightpoints(idx-1, 1))*alpha[i - 1] + (-leftpoints(idx, 1) + rightpoints(idx, 1))*alpha(idx) - rightpoints(idx-1, 1) + rightpoints(idx, 1), 2) + (-leftpoints(idx, 2) + rightpoints(idx, 2))/(-(-leftpoints(idx-1, 1) + rightpoints(idx-1, 1))*alpha[i - 1] + (-leftpoints(idx, 1) + rightpoints(idx, 1))*alpha(idx) - rightpoints(idx-1, 1) + rightpoints(idx, 1)))/(1 + power(-(-leftpoints(idx-1, 2) + rightpoints(idx-1, 2))*alpha[i - 1] + (-leftpoints(idx, 2) + rightpoints(idx, 2))*alpha(idx) - rightpoints(idx-1, 2) + rightpoints(idx, 2), 2)/power(-(-leftpoints(idx-1, 1) + rightpoints(idx-1, 1))*alpha[i - 1] + (-leftpoints(idx, 1) + rightpoints(idx, 1))*alpha(idx) - rightpoints(idx-1, 1) + rightpoints(idx, 1), 2)) + ((-leftpoints(idx, 1) + rightpoints(idx, 1))*((-leftpoints(idx+1, 2) + rightpoints(idx+1, 2))*alpha[i + 1] - (-leftpoints(idx, 2) + rightpoints(idx, 2))*alpha(idx) + rightpoints(idx+1, 2) - rightpoints(idx, 2))/power((-leftpoints(idx+1, 1) + rightpoints(idx+1, 1))*alpha[i + 1] - (-leftpoints(idx, 1) + rightpoints(idx, 1))*alpha(idx) + rightpoints(idx+1, 1) - rightpoints(idx, 1), 2) + (leftpoints(idx, 2) - rightpoints(idx, 2))/((-leftpoints(idx+1, 1) + rightpoints(idx+1, 1))*alpha[i + 1] - (-leftpoints(idx, 1) + rightpoints(idx, 1))*alpha(idx) + rightpoints(idx+1, 1) - rightpoints(idx, 1)))/(1 + power((-leftpoints(idx+1, 2) + rightpoints(idx+1, 2))*alpha[i + 1] - (-leftpoints(idx, 2) + rightpoints(idx, 2))*alpha(idx) + rightpoints(idx+1, 2) - rightpoints(idx, 2), 2)/power((-leftpoints(idx+1, 1) + rightpoints(idx+1, 1))*alpha[i + 1] - (-leftpoints(idx, 1) + rightpoints(idx, 1))*alpha(idx) + rightpoints(idx+1, 1) - rightpoints(idx, 1), 2)))*(-1.0/2.0*(2*leftpoints(idx, 1) - 2*rightpoints(idx, 1))*((-leftpoints(idx+1, 1) + rightpoints(idx+1, 1))*alpha[i + 1] - (-leftpoints(idx, 1) + rightpoints(idx, 1))*alpha(idx) + rightpoints(idx+1, 1) - rightpoints(idx, 1)) - 1.0/2.0*(2*leftpoints(idx, 2) - 2*rightpoints(idx, 2))*((-leftpoints(idx+1, 2) + rightpoints(idx+1, 2))*alpha[i + 1] - (-leftpoints(idx, 2) + rightpoints(idx, 2))*alpha(idx) + rightpoints(idx+1, 2) - rightpoints(idx, 2)))/power(power((-leftpoints(idx+1, 1) + rightpoints(idx+1, 1))*alpha[i + 1] - (-leftpoints(idx, 1) + rightpoints(idx, 1))*alpha(idx) + rightpoints(idx+1, 1) - rightpoints(idx, 1), 2) + power((-leftpoints(idx+1, 2) + rightpoints(idx+1, 2))*alpha[i + 1] - (-leftpoints(idx, 2) + rightpoints(idx, 2))*alpha(idx) + rightpoints(idx+1, 2) - rightpoints(idx, 2), 2), 3.0/2.0) + k_p*((-leftpoints(idx, 1) + rightpoints(idx, 1))*(leftpoints(idx, 1) - rightpoints(idx, 1)) + (-leftpoints(idx, 2) + rightpoints(idx, 2))*(leftpoints(idx, 2) - rightpoints(idx, 2)))*(atan(((-leftpoints(idx+1, 2) + rightpoints(idx+1, 2))*alpha[i + 1] - (-leftpoints(idx, 2) + rightpoints(idx, 2))*alpha(idx) + rightpoints(idx+1, 2) - rightpoints(idx, 2))/((-leftpoints(idx+1, 1) + rightpoints(idx+1, 1))*alpha[i + 1] - (-leftpoints(idx, 1) + rightpoints(idx, 1))*alpha(idx) + rightpoints(idx+1, 1) - rightpoints(idx, 1))) - atan((-(-leftpoints(idx-1, 2) + rightpoints(idx-1, 2))*alpha[i - 1] + (-leftpoints(idx, 2) + rightpoints(idx, 2))*alpha(idx) - rightpoints(idx-1, 2) + rightpoints(idx, 2))/(-(-leftpoints(idx-1, 1) + rightpoints(idx-1, 1))*alpha[i - 1] + (-leftpoints(idx, 1) + rightpoints(idx, 1))*alpha(idx) - rightpoints(idx-1, 1) + rightpoints(idx, 1))))/power(power((-leftpoints(idx+1, 1) + rightpoints(idx+1, 1))*alpha[i + 1] - (-leftpoints(idx, 1) + rightpoints(idx, 1))*alpha(idx) + rightpoints(idx+1, 1) - rightpoints(idx, 1), 2) + power((-leftpoints(idx+1, 2) + rightpoints(idx+1, 2))*alpha[i + 1] - (-leftpoints(idx, 2) + rightpoints(idx, 2))*alpha(idx) + rightpoints(idx+1, 2) - rightpoints(idx, 2), 2), 3.0/2.0) + k_p*(-3.0/2.0*(2*leftpoints(idx, 1) - 2*rightpoints(idx, 1))*((-leftpoints(idx+1, 1) + rightpoints(idx+1, 1))*alpha[i + 1] - (-leftpoints(idx, 1) + rightpoints(idx, 1))*alpha(idx) + rightpoints(idx+1, 1) - rightpoints(idx, 1)) - 3.0/2.0*(2*leftpoints(idx, 2) - 2*rightpoints(idx, 2))*((-leftpoints(idx+1, 2) + rightpoints(idx+1, 2))*alpha[i + 1] - (-leftpoints(idx, 2) + rightpoints(idx, 2))*alpha(idx) + rightpoints(idx+1, 2) - rightpoints(idx, 2)))*(-1.0/2.0*(2*leftpoints(idx, 1) - 2*rightpoints(idx, 1))*((-leftpoints(idx+1, 1) + rightpoints(idx+1, 1))*alpha[i + 1] - (-leftpoints(idx, 1) + rightpoints(idx, 1))*alpha(idx) + rightpoints(idx+1, 1) - rightpoints(idx, 1)) - 1.0/2.0*(2*leftpoints(idx, 2) - 2*rightpoints(idx, 2))*((-leftpoints(idx+1, 2) + rightpoints(idx+1, 2))*alpha[i + 1] - (-leftpoints(idx, 2) + rightpoints(idx, 2))*alpha(idx) + rightpoints(idx+1, 2) - rightpoints(idx, 2)))*(atan(((-leftpoints(idx+1, 2) + rightpoints(idx+1, 2))*alpha[i + 1] - (-leftpoints(idx, 2) + rightpoints(idx, 2))*alpha(idx) + rightpoints(idx+1, 2) - rightpoints(idx, 2))/((-leftpoints(idx+1, 1) + rightpoints(idx+1, 1))*alpha[i + 1] - (-leftpoints(idx, 1) + rightpoints(idx, 1))*alpha(idx) + rightpoints(idx+1, 1) - rightpoints(idx, 1))) - atan((-(-leftpoints(idx-1, 2) + rightpoints(idx-1, 2))*alpha[i - 1] + (-leftpoints(idx, 2) + rightpoints(idx, 2))*alpha(idx) - rightpoints(idx-1, 2) + rightpoints(idx, 2))/(-(-leftpoints(idx-1, 1) + rightpoints(idx-1, 1))*alpha[i - 1] + (-leftpoints(idx, 1) + rightpoints(idx, 1))*alpha(idx) - rightpoints(idx-1, 1) + rightpoints(idx, 1))))/power(power((-leftpoints(idx+1, 1) + rightpoints(idx+1, 1))*alpha[i + 1] - (-leftpoints(idx, 1) + rightpoints(idx, 1))*alpha(idx) + rightpoints(idx+1, 1) - rightpoints(idx, 1), 2) + power((-leftpoints(idx+1, 2) + rightpoints(idx+1, 2))*alpha[i + 1] - (-leftpoints(idx, 2) + rightpoints(idx, 2))*alpha(idx) + rightpoints(idx+1, 2) - rightpoints(idx, 2), 2), 5.0/2.0) + k_p*(-((leftpoints(idx, 1) - rightpoints(idx, 1))*(2*leftpoints(idx, 1) - 2*rightpoints(idx, 1))*(-(-leftpoints(idx-1, 2) + rightpoints(idx-1, 2))*alpha[i - 1] + (-leftpoints(idx, 2) + rightpoints(idx, 2))*alpha(idx) - rightpoints(idx-1, 2) + rightpoints(idx, 2))/power(-(-leftpoints(idx-1, 1) + rightpoints(idx-1, 1))*alpha[i - 1] + (-leftpoints(idx, 1) + rightpoints(idx, 1))*alpha(idx) - rightpoints(idx-1, 1) + rightpoints(idx, 1), 3) + 2*(leftpoints(idx, 1) - rightpoints(idx, 1))*(-leftpoints(idx, 2) + rightpoints(idx, 2))/power(-(-leftpoints(idx-1, 1) + rightpoints(idx-1, 1))*alpha[i - 1] + (-leftpoints(idx, 1) + rightpoints(idx, 1))*alpha(idx) - rightpoints(idx-1, 1) + rightpoints(idx, 1), 2))/(1 + power(-(-leftpoints(idx-1, 2) + rightpoints(idx-1, 2))*alpha[i - 1] + (-leftpoints(idx, 2) + rightpoints(idx, 2))*alpha(idx) - rightpoints(idx-1, 2) + rightpoints(idx, 2), 2)/power(-(-leftpoints(idx-1, 1) + rightpoints(idx-1, 1))*alpha[i - 1] + (-leftpoints(idx, 1) + rightpoints(idx, 1))*alpha(idx) - rightpoints(idx-1, 1) + rightpoints(idx, 1), 2)) - ((leftpoints(idx, 1) - rightpoints(idx, 1))*(-(-leftpoints(idx-1, 2) + rightpoints(idx-1, 2))*alpha[i - 1] + (-leftpoints(idx, 2) + rightpoints(idx, 2))*alpha(idx) - rightpoints(idx-1, 2) + rightpoints(idx, 2))/power(-(-leftpoints(idx-1, 1) + rightpoints(idx-1, 1))*alpha[i - 1] + (-leftpoints(idx, 1) + rightpoints(idx, 1))*alpha(idx) - rightpoints(idx-1, 1) + rightpoints(idx, 1), 2) + (-leftpoints(idx, 2) + rightpoints(idx, 2))/(-(-leftpoints(idx-1, 1) + rightpoints(idx-1, 1))*alpha[i - 1] + (-leftpoints(idx, 1) + rightpoints(idx, 1))*alpha(idx) - rightpoints(idx-1, 1) + rightpoints(idx, 1)))*(-(2*leftpoints(idx, 1) - 2*rightpoints(idx, 1))*power(-(-leftpoints(idx-1, 2) + rightpoints(idx-1, 2))*alpha[i - 1] + (-leftpoints(idx, 2) + rightpoints(idx, 2))*alpha(idx) - rightpoints(idx-1, 2) + rightpoints(idx, 2), 2)/power(-(-leftpoints(idx-1, 1) + rightpoints(idx-1, 1))*alpha[i - 1] + (-leftpoints(idx, 1) + rightpoints(idx, 1))*alpha(idx) - rightpoints(idx-1, 1) + rightpoints(idx, 1), 3) - (-2*leftpoints(idx, 2) + 2*rightpoints(idx, 2))*(-(-leftpoints(idx-1, 2) + rightpoints(idx-1, 2))*alpha[i - 1] + (-leftpoints(idx, 2) + rightpoints(idx, 2))*alpha(idx) - rightpoints(idx-1, 2) + rightpoints(idx, 2))/power(-(-leftpoints(idx-1, 1) + rightpoints(idx-1, 1))*alpha[i - 1] + (-leftpoints(idx, 1) + rightpoints(idx, 1))*alpha(idx) - rightpoints(idx-1, 1) + rightpoints(idx, 1), 2))/power(1 + power(-(-leftpoints(idx-1, 2) + rightpoints(idx-1, 2))*alpha[i - 1] + (-leftpoints(idx, 2) + rightpoints(idx, 2))*alpha(idx) - rightpoints(idx-1, 2) + rightpoints(idx, 2), 2)/power(-(-leftpoints(idx-1, 1) + rightpoints(idx-1, 1))*alpha[i - 1] + (-leftpoints(idx, 1) + rightpoints(idx, 1))*alpha(idx) - rightpoints(idx-1, 1) + rightpoints(idx, 1), 2), 2) + ((-2*leftpoints(idx, 1) + 2*rightpoints(idx, 1))*(-leftpoints(idx, 1) + rightpoints(idx, 1))*((-leftpoints(idx+1, 2) + rightpoints(idx+1, 2))*alpha[i + 1] - (-leftpoints(idx, 2) + rightpoints(idx, 2))*alpha(idx) + rightpoints(idx+1, 2) - rightpoints(idx, 2))/power((-leftpoints(idx+1, 1) + rightpoints(idx+1, 1))*alpha[i + 1] - (-leftpoints(idx, 1) + rightpoints(idx, 1))*alpha(idx) + rightpoints(idx+1, 1) - rightpoints(idx, 1), 3) + 2*(-leftpoints(idx, 1) + rightpoints(idx, 1))*(leftpoints(idx, 2) - rightpoints(idx, 2))/power((-leftpoints(idx+1, 1) + rightpoints(idx+1, 1))*alpha[i + 1] - (-leftpoints(idx, 1) + rightpoints(idx, 1))*alpha(idx) + rightpoints(idx+1, 1) - rightpoints(idx, 1), 2))/(1 + power((-leftpoints(idx+1, 2) + rightpoints(idx+1, 2))*alpha[i + 1] - (-leftpoints(idx, 2) + rightpoints(idx, 2))*alpha(idx) + rightpoints(idx+1, 2) - rightpoints(idx, 2), 2)/power((-leftpoints(idx+1, 1) + rightpoints(idx+1, 1))*alpha[i + 1] - (-leftpoints(idx, 1) + rightpoints(idx, 1))*alpha(idx) + rightpoints(idx+1, 1) - rightpoints(idx, 1), 2)) + (-(-2*leftpoints(idx, 1) + 2*rightpoints(idx, 1))*power((-leftpoints(idx+1, 2) + rightpoints(idx+1, 2))*alpha[i + 1] - (-leftpoints(idx, 2) + rightpoints(idx, 2))*alpha(idx) + rightpoints(idx+1, 2) - rightpoints(idx, 2), 2)/power((-leftpoints(idx+1, 1) + rightpoints(idx+1, 1))*alpha[i + 1] - (-leftpoints(idx, 1) + rightpoints(idx, 1))*alpha(idx) + rightpoints(idx+1, 1) - rightpoints(idx, 1), 3) - (2*leftpoints(idx, 2) - 2*rightpoints(idx, 2))*((-leftpoints(idx+1, 2) + rightpoints(idx+1, 2))*alpha[i + 1] - (-leftpoints(idx, 2) + rightpoints(idx, 2))*alpha(idx) + rightpoints(idx+1, 2) - rightpoints(idx, 2))/power((-leftpoints(idx+1, 1) + rightpoints(idx+1, 1))*alpha[i + 1] - (-leftpoints(idx, 1) + rightpoints(idx, 1))*alpha(idx) + rightpoints(idx+1, 1) - rightpoints(idx, 1), 2))*((-leftpoints(idx, 1) + rightpoints(idx, 1))*((-leftpoints(idx+1, 2) + rightpoints(idx+1, 2))*alpha[i + 1] - (-leftpoints(idx, 2) + rightpoints(idx, 2))*alpha(idx) + rightpoints(idx+1, 2) - rightpoints(idx, 2))/power((-leftpoints(idx+1, 1) + rightpoints(idx+1, 1))*alpha[i + 1] - (-leftpoints(idx, 1) + rightpoints(idx, 1))*alpha(idx) + rightpoints(idx+1, 1) - rightpoints(idx, 1), 2) + (leftpoints(idx, 2) - rightpoints(idx, 2))/((-leftpoints(idx+1, 1) + rightpoints(idx+1, 1))*alpha[i + 1] - (-leftpoints(idx, 1) + rightpoints(idx, 1))*alpha(idx) + rightpoints(idx+1, 1) - rightpoints(idx, 1)))/power(1 + power((-leftpoints(idx+1, 2) + rightpoints(idx+1, 2))*alpha[i + 1] - (-leftpoints(idx, 2) + rightpoints(idx, 2))*alpha(idx) + rightpoints(idx+1, 2) - rightpoints(idx, 2), 2)/power((-leftpoints(idx+1, 1) + rightpoints(idx+1, 1))*alpha[i + 1] - (-leftpoints(idx, 1) + rightpoints(idx, 1))*alpha(idx) + rightpoints(idx+1, 1) - rightpoints(idx, 1), 2), 2))/sqrt(power((-leftpoints(idx+1, 1) + rightpoints(idx+1, 1))*alpha[i + 1] - (-leftpoints(idx, 1) + rightpoints(idx, 1))*alpha(idx) + rightpoints(idx+1, 1) - rightpoints(idx, 1), 2) + power((-leftpoints(idx+1, 2) + rightpoints(idx+1, 2))*alpha[i + 1] - (-leftpoints(idx, 2) + rightpoints(idx, 2))*alpha(idx) + rightpoints(idx+1, 2) - rightpoints(idx, 2), 2))'"
      ]
     },
     "execution_count": 16,
     "metadata": {},
     "output_type": "execute_result"
    }
   ],
   "source": [
    "hessian_code"
   ]
  }
 ],
 "metadata": {
  "interpreter": {
   "hash": "fd9f199d7ce166a1e1fc959fbadba5c69a2231f0d3ee56353deab5bb56021a27"
  },
  "kernelspec": {
   "display_name": "Python 3.6.8 64-bit ('ML': virtualenv)",
   "language": "python",
   "name": "python3"
  },
  "language_info": {
   "codemirror_mode": {
    "name": "ipython",
    "version": 3
   },
   "file_extension": ".py",
   "mimetype": "text/x-python",
   "name": "python",
   "nbconvert_exporter": "python",
   "pygments_lexer": "ipython3",
   "version": "3.6.8"
  },
  "orig_nbformat": 4
 },
 "nbformat": 4,
 "nbformat_minor": 2
}
