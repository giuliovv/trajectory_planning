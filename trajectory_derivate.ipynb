{
  "nbformat": 4,
  "nbformat_minor": 0,
  "metadata": {
    "interpreter": {
      "hash": "fd9f199d7ce166a1e1fc959fbadba5c69a2231f0d3ee56353deab5bb56021a27"
    },
    "kernelspec": {
      "display_name": "Python 3.6.8 64-bit ('ML': virtualenv)",
      "language": "python",
      "name": "python3"
    },
    "language_info": {
      "codemirror_mode": {
        "name": "ipython",
        "version": 3
      },
      "file_extension": ".py",
      "mimetype": "text/x-python",
      "name": "python",
      "nbconvert_exporter": "python",
      "pygments_lexer": "ipython3",
      "version": "3.6.8"
    },
    "orig_nbformat": 4,
    "colab": {
      "name": "trajectory_derivate.ipynb",
      "provenance": []
    }
  },
  "cells": [
    {
      "cell_type": "code",
      "metadata": {
        "id": "ORIKdryYUPY2"
      },
      "source": [
        "import sympy\n",
        "from sympy import Symbol, Sum, IndexedBase\n",
        "from sympy.parsing.sympy_parser import parse_expr"
      ],
      "execution_count": 1,
      "outputs": []
    },
    {
      "cell_type": "code",
      "metadata": {
        "id": "hNvsgveTUPZD"
      },
      "source": [
        "a = IndexedBase(\"alpha\", \"i\")\n",
        "xr = IndexedBase(\"x_r\", \"i\")\n",
        "yr = IndexedBase(\"y_r\", \"i\")\n",
        "xl = IndexedBase(\"x_l\", \"i\")\n",
        "yl = IndexedBase(\"y_l\", \"i\")\n",
        "\n",
        "x = IndexedBase(\"x\", \"i\")\n",
        "y = IndexedBase(\"y\", \"i\")\n",
        "\n",
        "kp = Symbol(\"k_p\")\n",
        "kl = Symbol(\"k_l\")\n",
        "\n",
        "i = Symbol(\"i\")\n",
        "N = Symbol(\"N\")"
      ],
      "execution_count": 2,
      "outputs": []
    },
    {
      "cell_type": "code",
      "metadata": {
        "id": "Tc3N7dgfW1wy"
      },
      "source": [
        "def print_latex(text, fontsize=50):\n",
        "  lat = sympy.latex(text)\n",
        "\n",
        "  #add text                                                                       \n",
        "  plt.text(0, 0.5, r\"$%s$\" % lat, fontsize=fontsize)                                  \n",
        "\n",
        "  # #hide axes                                                                      \n",
        "  fig = plt.gca()\n",
        "  fig.axis('off')\n",
        "  plt.draw()"
      ],
      "execution_count": 54,
      "outputs": []
    },
    {
      "cell_type": "markdown",
      "metadata": {
        "id": "5AHsQUe5UPZG"
      },
      "source": [
        "## Formulation"
      ]
    },
    {
      "cell_type": "code",
      "metadata": {
        "id": "2BAEzA_5WWFC"
      },
      "source": [
        "import matplotlib.pyplot as plt"
      ],
      "execution_count": 31,
      "outputs": []
    },
    {
      "cell_type": "code",
      "metadata": {
        "colab": {
          "base_uri": "https://localhost:8080/",
          "height": 248
        },
        "id": "nyHtI__sUPZI",
        "outputId": "5f8df35a-ffbf-4fcc-a641-b9ad23830fa4"
      },
      "source": [
        "ds = sympy.sqrt((x[i+1]-x[i])**2+(y[i+1]-y[i])**2)\n",
        "print_latex(ds)"
      ],
      "execution_count": 55,
      "outputs": [
        {
          "output_type": "display_data",
          "data": {
            "image/png": "[encoded data removed]",
            "text/plain": [
              "<Figure size 432x288 with 1 Axes>"
            ]
          },
          "metadata": {
            "needs_background": "light"
          }
        }
      ]
    },
    {
      "cell_type": "code",
      "metadata": {
        "colab": {
          "base_uri": "https://localhost:8080/",
          "height": 70
        },
        "id": "j0NBv73dUPZO",
        "outputId": "68ad1987-fc5f-4dbf-86f3-0fca460a6d16"
      },
      "source": [
        "Jl = ds**2\n",
        "Sum(Jl, (\"i\", 0, N))"
      ],
      "execution_count": 4,
      "outputs": [
        {
          "output_type": "execute_result",
          "data": {
            "text/latex": "$\\displaystyle \\sum_{i=0}^{N} \\left(\\left({x}_{i + 1} - {x}_{i}\\right)^{2} + \\left({y}_{i + 1} - {y}_{i}\\right)^{2}\\right)$",
            "text/plain": [
              "Sum((x[i + 1] - x[i])**2 + (y[i + 1] - y[i])**2, (i, 0, N))"
            ]
          },
          "metadata": {},
          "execution_count": 4
        }
      ]
    },
    {
      "cell_type": "code",
      "metadata": {
        "colab": {
          "base_uri": "https://localhost:8080/",
          "height": 70
        },
        "id": "51Kly4d-UPZR",
        "outputId": "98abd797-9cac-4883-a4c7-1388d31322f0"
      },
      "source": [
        "Jp = (sympy.atan((y[i+1]-y[i])/(x[i+1]-x[i]))-sympy.atan((y[i]-y[i-1])/(x[i]-x[i-1])))/(ds)\n",
        "Sum(Jl, (\"i\", 1, N))"
      ],
      "execution_count": 5,
      "outputs": [
        {
          "output_type": "execute_result",
          "data": {
            "text/latex": "$\\displaystyle \\sum_{i=1}^{N} \\left(\\left({x}_{i + 1} - {x}_{i}\\right)^{2} + \\left({y}_{i + 1} - {y}_{i}\\right)^{2}\\right)$",
            "text/plain": [
              "Sum((x[i + 1] - x[i])**2 + (y[i + 1] - y[i])**2, (i, 1, N))"
            ]
          },
          "metadata": {},
          "execution_count": 5
        }
      ]
    },
    {
      "cell_type": "markdown",
      "metadata": {
        "id": "jBQUUROAUPZT"
      },
      "source": [
        "## Substitutions"
      ]
    },
    {
      "cell_type": "code",
      "metadata": {
        "colab": {
          "base_uri": "https://localhost:8080/",
          "height": 70
        },
        "id": "SJTx7EayUPZU",
        "outputId": "cb168d66-dfd7-4bcd-f2b2-d5b186f22368"
      },
      "source": [
        "Jl = Jl \\\n",
        "    .subs(x[i+1], xr[i+1]+a[i+1]*(xr[i+1]-xl[i+1])) \\\n",
        "    .subs(x[i], xr[i]+a[i]*(xr[i]-xl[i])) \\\n",
        "    .subs(y[i], yr[i]+a[i]*(yr[i]-yl[i])) \\\n",
        "    .subs(y[i+1], yr[i+1]+a[i+1]*(yr[i+1]-yl[i+1]))\n",
        "Sum(Jl, (\"i\", 1, N))"
      ],
      "execution_count": 6,
      "outputs": [
        {
          "output_type": "execute_result",
          "data": {
            "text/latex": "$\\displaystyle \\sum_{i=1}^{N} \\left(\\left(\\left(- {x_{l}}_{i + 1} + {x_{r}}_{i + 1}\\right) {\\alpha}_{i + 1} - \\left(- {x_{l}}_{i} + {x_{r}}_{i}\\right) {\\alpha}_{i} + {x_{r}}_{i + 1} - {x_{r}}_{i}\\right)^{2} + \\left(\\left(- {y_{l}}_{i + 1} + {y_{r}}_{i + 1}\\right) {\\alpha}_{i + 1} - \\left(- {y_{l}}_{i} + {y_{r}}_{i}\\right) {\\alpha}_{i} + {y_{r}}_{i + 1} - {y_{r}}_{i}\\right)^{2}\\right)$",
            "text/plain": [
              "Sum(((-x_l[i + 1] + x_r[i + 1])*alpha[i + 1] - (-x_l[i] + x_r[i])*alpha[i] + x_r[i + 1] - x_r[i])**2 + ((-y_l[i + 1] + y_r[i + 1])*alpha[i + 1] - (-y_l[i] + y_r[i])*alpha[i] + y_r[i + 1] - y_r[i])**2, (i, 1, N))"
            ]
          },
          "metadata": {},
          "execution_count": 6
        }
      ]
    },
    {
      "cell_type": "code",
      "metadata": {
        "colab": {
          "base_uri": "https://localhost:8080/",
          "height": 94
        },
        "id": "cXWKLDnkUPZY",
        "outputId": "3a198ffb-139e-444d-ffc5-a6400f1df705"
      },
      "source": [
        "Jp = Jp \\\n",
        "    .subs(x[i+1], xr[i+1]+a[i+1]*(xr[i+1]-xl[i+1])) \\\n",
        "    .subs(x[i], xr[i]+a[i]*(xr[i]-xl[i])) \\\n",
        "    .subs(x[i-1], xr[i-1]+a[i-1]*(xr[i-1]-xl[i-1])) \\\n",
        "    .subs(y[i], yr[i]+a[i]*(yr[i]-yl[i])) \\\n",
        "    .subs(y[i+1], yr[i+1]+a[i+1]*(yr[i+1]-yl[i+1])) \\\n",
        "    .subs(y[i-1], yr[i-1]+a[i-1]*(yr[i-1]-yl[i-1]))\n",
        "Sum(Jp, (\"i\", 1, N))"
      ],
      "execution_count": 7,
      "outputs": [
        {
          "output_type": "execute_result",
          "data": {
            "text/latex": "$\\displaystyle \\sum_{i=1}^{N} \\frac{\\operatorname{atan}{\\left(\\frac{\\left(- {y_{l}}_{i + 1} + {y_{r}}_{i + 1}\\right) {\\alpha}_{i + 1} - \\left(- {y_{l}}_{i} + {y_{r}}_{i}\\right) {\\alpha}_{i} + {y_{r}}_{i + 1} - {y_{r}}_{i}}{\\left(- {x_{l}}_{i + 1} + {x_{r}}_{i + 1}\\right) {\\alpha}_{i + 1} - \\left(- {x_{l}}_{i} + {x_{r}}_{i}\\right) {\\alpha}_{i} + {x_{r}}_{i + 1} - {x_{r}}_{i}} \\right)} - \\operatorname{atan}{\\left(\\frac{- \\left(- {y_{l}}_{i - 1} + {y_{r}}_{i - 1}\\right) {\\alpha}_{i - 1} + \\left(- {y_{l}}_{i} + {y_{r}}_{i}\\right) {\\alpha}_{i} - {y_{r}}_{i - 1} + {y_{r}}_{i}}{- \\left(- {x_{l}}_{i - 1} + {x_{r}}_{i - 1}\\right) {\\alpha}_{i - 1} + \\left(- {x_{l}}_{i} + {x_{r}}_{i}\\right) {\\alpha}_{i} - {x_{r}}_{i - 1} + {x_{r}}_{i}} \\right)}}{\\sqrt{\\left(\\left(- {x_{l}}_{i + 1} + {x_{r}}_{i + 1}\\right) {\\alpha}_{i + 1} - \\left(- {x_{l}}_{i} + {x_{r}}_{i}\\right) {\\alpha}_{i} + {x_{r}}_{i + 1} - {x_{r}}_{i}\\right)^{2} + \\left(\\left(- {y_{l}}_{i + 1} + {y_{r}}_{i + 1}\\right) {\\alpha}_{i + 1} - \\left(- {y_{l}}_{i} + {y_{r}}_{i}\\right) {\\alpha}_{i} + {y_{r}}_{i + 1} - {y_{r}}_{i}\\right)^{2}}}$",
            "text/plain": [
              "Sum((atan(((-y_l[i + 1] + y_r[i + 1])*alpha[i + 1] - (-y_l[i] + y_r[i])*alpha[i] + y_r[i + 1] - y_r[i])/((-x_l[i + 1] + x_r[i + 1])*alpha[i + 1] - (-x_l[i] + x_r[i])*alpha[i] + x_r[i + 1] - x_r[i])) - atan((-(-y_l[i - 1] + y_r[i - 1])*alpha[i - 1] + (-y_l[i] + y_r[i])*alpha[i] - y_r[i - 1] + y_r[i])/(-(-x_l[i - 1] + x_r[i - 1])*alpha[i - 1] + (-x_l[i] + x_r[i])*alpha[i] - x_r[i - 1] + x_r[i])))/sqrt(((-x_l[i + 1] + x_r[i + 1])*alpha[i + 1] - (-x_l[i] + x_r[i])*alpha[i] + x_r[i + 1] - x_r[i])**2 + ((-y_l[i + 1] + y_r[i + 1])*alpha[i + 1] - (-y_l[i] + y_r[i])*alpha[i] + y_r[i + 1] - y_r[i])**2), (i, 1, N))"
            ]
          },
          "metadata": {},
          "execution_count": 7
        }
      ]
    },
    {
      "cell_type": "code",
      "metadata": {
        "colab": {
          "base_uri": "https://localhost:8080/",
          "height": 146
        },
        "id": "RhmQG0b2UPZa",
        "outputId": "93acc6c0-77d7-4b67-832f-c800d9bfe32b"
      },
      "source": [
        "J = kl*Sum(Jl, (\"i\", 1, N)) + kp * Sum(Jp, (\"i\", 1, N))\n",
        "J"
      ],
      "execution_count": 16,
      "outputs": [
        {
          "output_type": "execute_result",
          "data": {
            "text/latex": "$\\displaystyle k_{l} \\sum_{i=1}^{N} \\left(\\left(\\left(- {x_{l}}_{i + 1} + {x_{r}}_{i + 1}\\right) {\\alpha}_{i + 1} - \\left(- {x_{l}}_{i} + {x_{r}}_{i}\\right) {\\alpha}_{i} + {x_{r}}_{i + 1} - {x_{r}}_{i}\\right)^{2} + \\left(\\left(- {y_{l}}_{i + 1} + {y_{r}}_{i + 1}\\right) {\\alpha}_{i + 1} - \\left(- {y_{l}}_{i} + {y_{r}}_{i}\\right) {\\alpha}_{i} + {y_{r}}_{i + 1} - {y_{r}}_{i}\\right)^{2}\\right) + k_{p} \\sum_{i=1}^{N} \\frac{\\operatorname{atan}{\\left(\\frac{\\left(- {y_{l}}_{i + 1} + {y_{r}}_{i + 1}\\right) {\\alpha}_{i + 1} - \\left(- {y_{l}}_{i} + {y_{r}}_{i}\\right) {\\alpha}_{i} + {y_{r}}_{i + 1} - {y_{r}}_{i}}{\\left(- {x_{l}}_{i + 1} + {x_{r}}_{i + 1}\\right) {\\alpha}_{i + 1} - \\left(- {x_{l}}_{i} + {x_{r}}_{i}\\right) {\\alpha}_{i} + {x_{r}}_{i + 1} - {x_{r}}_{i}} \\right)} - \\operatorname{atan}{\\left(\\frac{- \\left(- {y_{l}}_{i - 1} + {y_{r}}_{i - 1}\\right) {\\alpha}_{i - 1} + \\left(- {y_{l}}_{i} + {y_{r}}_{i}\\right) {\\alpha}_{i} - {y_{r}}_{i - 1} + {y_{r}}_{i}}{- \\left(- {x_{l}}_{i - 1} + {x_{r}}_{i - 1}\\right) {\\alpha}_{i - 1} + \\left(- {x_{l}}_{i} + {x_{r}}_{i}\\right) {\\alpha}_{i} - {x_{r}}_{i - 1} + {x_{r}}_{i}} \\right)}}{\\sqrt{\\left(\\left(- {x_{l}}_{i + 1} + {x_{r}}_{i + 1}\\right) {\\alpha}_{i + 1} - \\left(- {x_{l}}_{i} + {x_{r}}_{i}\\right) {\\alpha}_{i} + {x_{r}}_{i + 1} - {x_{r}}_{i}\\right)^{2} + \\left(\\left(- {y_{l}}_{i + 1} + {y_{r}}_{i + 1}\\right) {\\alpha}_{i + 1} - \\left(- {y_{l}}_{i} + {y_{r}}_{i}\\right) {\\alpha}_{i} + {y_{r}}_{i + 1} - {y_{r}}_{i}\\right)^{2}}}$",
            "text/plain": [
              "k_l*Sum(((-x_l[i + 1] + x_r[i + 1])*alpha[i + 1] - (-x_l[i] + x_r[i])*alpha[i] + x_r[i + 1] - x_r[i])**2 + ((-y_l[i + 1] + y_r[i + 1])*alpha[i + 1] - (-y_l[i] + y_r[i])*alpha[i] + y_r[i + 1] - y_r[i])**2, (i, 1, N)) + k_p*Sum((atan(((-y_l[i + 1] + y_r[i + 1])*alpha[i + 1] - (-y_l[i] + y_r[i])*alpha[i] + y_r[i + 1] - y_r[i])/((-x_l[i + 1] + x_r[i + 1])*alpha[i + 1] - (-x_l[i] + x_r[i])*alpha[i] + x_r[i + 1] - x_r[i])) - atan((-(-y_l[i - 1] + y_r[i - 1])*alpha[i - 1] + (-y_l[i] + y_r[i])*alpha[i] - y_r[i - 1] + y_r[i])/(-(-x_l[i - 1] + x_r[i - 1])*alpha[i - 1] + (-x_l[i] + x_r[i])*alpha[i] - x_r[i - 1] + x_r[i])))/sqrt(((-x_l[i + 1] + x_r[i + 1])*alpha[i + 1] - (-x_l[i] + x_r[i])*alpha[i] + x_r[i + 1] - x_r[i])**2 + ((-y_l[i + 1] + y_r[i + 1])*alpha[i + 1] - (-y_l[i] + y_r[i])*alpha[i] + y_r[i + 1] - y_r[i])**2), (i, 1, N))"
            ]
          },
          "metadata": {},
          "execution_count": 16
        }
      ]
    },
    {
      "cell_type": "markdown",
      "metadata": {
        "id": "x4XnI7UNUPZc"
      },
      "source": [
        "## Gradient"
      ]
    },
    {
      "cell_type": "code",
      "metadata": {
        "colab": {
          "base_uri": "https://localhost:8080/",
          "height": 275
        },
        "id": "O4Qyc7LRUPZe",
        "outputId": "c26c611a-f175-4b77-a2a0-6279f79efb45"
      },
      "source": [
        "gradient = J.diff(a[i])\n",
        "gradient"
      ],
      "execution_count": 26,
      "outputs": [
        {
          "output_type": "execute_result",
          "data": {
            "text/latex": "$\\displaystyle k_{l} \\sum_{i=1}^{N} \\left(\\left(2 {x_{l}}_{i} - 2 {x_{r}}_{i}\\right) \\left(\\left(- {x_{l}}_{i + 1} + {x_{r}}_{i + 1}\\right) {\\alpha}_{i + 1} - \\left(- {x_{l}}_{i} + {x_{r}}_{i}\\right) {\\alpha}_{i} + {x_{r}}_{i + 1} - {x_{r}}_{i}\\right) + \\left(2 {y_{l}}_{i} - 2 {y_{r}}_{i}\\right) \\left(\\left(- {y_{l}}_{i + 1} + {y_{r}}_{i + 1}\\right) {\\alpha}_{i + 1} - \\left(- {y_{l}}_{i} + {y_{r}}_{i}\\right) {\\alpha}_{i} + {y_{r}}_{i + 1} - {y_{r}}_{i}\\right)\\right) + k_{p} \\sum_{i=1}^{N} \\left(\\frac{- \\frac{\\frac{\\left({x_{l}}_{i} - {x_{r}}_{i}\\right) \\left(- \\left(- {y_{l}}_{i - 1} + {y_{r}}_{i - 1}\\right) {\\alpha}_{i - 1} + \\left(- {y_{l}}_{i} + {y_{r}}_{i}\\right) {\\alpha}_{i} - {y_{r}}_{i - 1} + {y_{r}}_{i}\\right)}{\\left(- \\left(- {x_{l}}_{i - 1} + {x_{r}}_{i - 1}\\right) {\\alpha}_{i - 1} + \\left(- {x_{l}}_{i} + {x_{r}}_{i}\\right) {\\alpha}_{i} - {x_{r}}_{i - 1} + {x_{r}}_{i}\\right)^{2}} + \\frac{- {y_{l}}_{i} + {y_{r}}_{i}}{- \\left(- {x_{l}}_{i - 1} + {x_{r}}_{i - 1}\\right) {\\alpha}_{i - 1} + \\left(- {x_{l}}_{i} + {x_{r}}_{i}\\right) {\\alpha}_{i} - {x_{r}}_{i - 1} + {x_{r}}_{i}}}{1 + \\frac{\\left(- \\left(- {y_{l}}_{i - 1} + {y_{r}}_{i - 1}\\right) {\\alpha}_{i - 1} + \\left(- {y_{l}}_{i} + {y_{r}}_{i}\\right) {\\alpha}_{i} - {y_{r}}_{i - 1} + {y_{r}}_{i}\\right)^{2}}{\\left(- \\left(- {x_{l}}_{i - 1} + {x_{r}}_{i - 1}\\right) {\\alpha}_{i - 1} + \\left(- {x_{l}}_{i} + {x_{r}}_{i}\\right) {\\alpha}_{i} - {x_{r}}_{i - 1} + {x_{r}}_{i}\\right)^{2}}} + \\frac{\\frac{\\left(- {x_{l}}_{i} + {x_{r}}_{i}\\right) \\left(\\left(- {y_{l}}_{i + 1} + {y_{r}}_{i + 1}\\right) {\\alpha}_{i + 1} - \\left(- {y_{l}}_{i} + {y_{r}}_{i}\\right) {\\alpha}_{i} + {y_{r}}_{i + 1} - {y_{r}}_{i}\\right)}{\\left(\\left(- {x_{l}}_{i + 1} + {x_{r}}_{i + 1}\\right) {\\alpha}_{i + 1} - \\left(- {x_{l}}_{i} + {x_{r}}_{i}\\right) {\\alpha}_{i} + {x_{r}}_{i + 1} - {x_{r}}_{i}\\right)^{2}} + \\frac{{y_{l}}_{i} - {y_{r}}_{i}}{\\left(- {x_{l}}_{i + 1} + {x_{r}}_{i + 1}\\right) {\\alpha}_{i + 1} - \\left(- {x_{l}}_{i} + {x_{r}}_{i}\\right) {\\alpha}_{i} + {x_{r}}_{i + 1} - {x_{r}}_{i}}}{1 + \\frac{\\left(\\left(- {y_{l}}_{i + 1} + {y_{r}}_{i + 1}\\right) {\\alpha}_{i + 1} - \\left(- {y_{l}}_{i} + {y_{r}}_{i}\\right) {\\alpha}_{i} + {y_{r}}_{i + 1} - {y_{r}}_{i}\\right)^{2}}{\\left(\\left(- {x_{l}}_{i + 1} + {x_{r}}_{i + 1}\\right) {\\alpha}_{i + 1} - \\left(- {x_{l}}_{i} + {x_{r}}_{i}\\right) {\\alpha}_{i} + {x_{r}}_{i + 1} - {x_{r}}_{i}\\right)^{2}}}}{\\sqrt{\\left(\\left(- {x_{l}}_{i + 1} + {x_{r}}_{i + 1}\\right) {\\alpha}_{i + 1} - \\left(- {x_{l}}_{i} + {x_{r}}_{i}\\right) {\\alpha}_{i} + {x_{r}}_{i + 1} - {x_{r}}_{i}\\right)^{2} + \\left(\\left(- {y_{l}}_{i + 1} + {y_{r}}_{i + 1}\\right) {\\alpha}_{i + 1} - \\left(- {y_{l}}_{i} + {y_{r}}_{i}\\right) {\\alpha}_{i} + {y_{r}}_{i + 1} - {y_{r}}_{i}\\right)^{2}}} + \\frac{\\left(- \\frac{\\left(2 {x_{l}}_{i} - 2 {x_{r}}_{i}\\right) \\left(\\left(- {x_{l}}_{i + 1} + {x_{r}}_{i + 1}\\right) {\\alpha}_{i + 1} - \\left(- {x_{l}}_{i} + {x_{r}}_{i}\\right) {\\alpha}_{i} + {x_{r}}_{i + 1} - {x_{r}}_{i}\\right)}{2} - \\frac{\\left(2 {y_{l}}_{i} - 2 {y_{r}}_{i}\\right) \\left(\\left(- {y_{l}}_{i + 1} + {y_{r}}_{i + 1}\\right) {\\alpha}_{i + 1} - \\left(- {y_{l}}_{i} + {y_{r}}_{i}\\right) {\\alpha}_{i} + {y_{r}}_{i + 1} - {y_{r}}_{i}\\right)}{2}\\right) \\left(\\operatorname{atan}{\\left(\\frac{\\left(- {y_{l}}_{i + 1} + {y_{r}}_{i + 1}\\right) {\\alpha}_{i + 1} - \\left(- {y_{l}}_{i} + {y_{r}}_{i}\\right) {\\alpha}_{i} + {y_{r}}_{i + 1} - {y_{r}}_{i}}{\\left(- {x_{l}}_{i + 1} + {x_{r}}_{i + 1}\\right) {\\alpha}_{i + 1} - \\left(- {x_{l}}_{i} + {x_{r}}_{i}\\right) {\\alpha}_{i} + {x_{r}}_{i + 1} - {x_{r}}_{i}} \\right)} - \\operatorname{atan}{\\left(\\frac{- \\left(- {y_{l}}_{i - 1} + {y_{r}}_{i - 1}\\right) {\\alpha}_{i - 1} + \\left(- {y_{l}}_{i} + {y_{r}}_{i}\\right) {\\alpha}_{i} - {y_{r}}_{i - 1} + {y_{r}}_{i}}{- \\left(- {x_{l}}_{i - 1} + {x_{r}}_{i - 1}\\right) {\\alpha}_{i - 1} + \\left(- {x_{l}}_{i} + {x_{r}}_{i}\\right) {\\alpha}_{i} - {x_{r}}_{i - 1} + {x_{r}}_{i}} \\right)}\\right)}{\\left(\\left(\\left(- {x_{l}}_{i + 1} + {x_{r}}_{i + 1}\\right) {\\alpha}_{i + 1} - \\left(- {x_{l}}_{i} + {x_{r}}_{i}\\right) {\\alpha}_{i} + {x_{r}}_{i + 1} - {x_{r}}_{i}\\right)^{2} + \\left(\\left(- {y_{l}}_{i + 1} + {y_{r}}_{i + 1}\\right) {\\alpha}_{i + 1} - \\left(- {y_{l}}_{i} + {y_{r}}_{i}\\right) {\\alpha}_{i} + {y_{r}}_{i + 1} - {y_{r}}_{i}\\right)^{2}\\right)^{\\frac{3}{2}}}\\right)$",
            "text/plain": [
              "k_l*Sum((2*x_l[i] - 2*x_r[i])*((-x_l[i + 1] + x_r[i + 1])*alpha[i + 1] - (-x_l[i] + x_r[i])*alpha[i] + x_r[i + 1] - x_r[i]) + (2*y_l[i] - 2*y_r[i])*((-y_l[i + 1] + y_r[i + 1])*alpha[i + 1] - (-y_l[i] + y_r[i])*alpha[i] + y_r[i + 1] - y_r[i]), (i, 1, N)) + k_p*Sum((-((x_l[i] - x_r[i])*(-(-y_l[i - 1] + y_r[i - 1])*alpha[i - 1] + (-y_l[i] + y_r[i])*alpha[i] - y_r[i - 1] + y_r[i])/(-(-x_l[i - 1] + x_r[i - 1])*alpha[i - 1] + (-x_l[i] + x_r[i])*alpha[i] - x_r[i - 1] + x_r[i])**2 + (-y_l[i] + y_r[i])/(-(-x_l[i - 1] + x_r[i - 1])*alpha[i - 1] + (-x_l[i] + x_r[i])*alpha[i] - x_r[i - 1] + x_r[i]))/(1 + (-(-y_l[i - 1] + y_r[i - 1])*alpha[i - 1] + (-y_l[i] + y_r[i])*alpha[i] - y_r[i - 1] + y_r[i])**2/(-(-x_l[i - 1] + x_r[i - 1])*alpha[i - 1] + (-x_l[i] + x_r[i])*alpha[i] - x_r[i - 1] + x_r[i])**2) + ((-x_l[i] + x_r[i])*((-y_l[i + 1] + y_r[i + 1])*alpha[i + 1] - (-y_l[i] + y_r[i])*alpha[i] + y_r[i + 1] - y_r[i])/((-x_l[i + 1] + x_r[i + 1])*alpha[i + 1] - (-x_l[i] + x_r[i])*alpha[i] + x_r[i + 1] - x_r[i])**2 + (y_l[i] - y_r[i])/((-x_l[i + 1] + x_r[i + 1])*alpha[i + 1] - (-x_l[i] + x_r[i])*alpha[i] + x_r[i + 1] - x_r[i]))/(1 + ((-y_l[i + 1] + y_r[i + 1])*alpha[i + 1] - (-y_l[i] + y_r[i])*alpha[i] + y_r[i + 1] - y_r[i])**2/((-x_l[i + 1] + x_r[i + 1])*alpha[i + 1] - (-x_l[i] + x_r[i])*alpha[i] + x_r[i + 1] - x_r[i])**2))/sqrt(((-x_l[i + 1] + x_r[i + 1])*alpha[i + 1] - (-x_l[i] + x_r[i])*alpha[i] + x_r[i + 1] - x_r[i])**2 + ((-y_l[i + 1] + y_r[i + 1])*alpha[i + 1] - (-y_l[i] + y_r[i])*alpha[i] + y_r[i + 1] - y_r[i])**2) + (-(2*x_l[i] - 2*x_r[i])*((-x_l[i + 1] + x_r[i + 1])*alpha[i + 1] - (-x_l[i] + x_r[i])*alpha[i] + x_r[i + 1] - x_r[i])/2 - (2*y_l[i] - 2*y_r[i])*((-y_l[i + 1] + y_r[i + 1])*alpha[i + 1] - (-y_l[i] + y_r[i])*alpha[i] + y_r[i + 1] - y_r[i])/2)*(atan(((-y_l[i + 1] + y_r[i + 1])*alpha[i + 1] - (-y_l[i] + y_r[i])*alpha[i] + y_r[i + 1] - y_r[i])/((-x_l[i + 1] + x_r[i + 1])*alpha[i + 1] - (-x_l[i] + x_r[i])*alpha[i] + x_r[i + 1] - x_r[i])) - atan((-(-y_l[i - 1] + y_r[i - 1])*alpha[i - 1] + (-y_l[i] + y_r[i])*alpha[i] - y_r[i - 1] + y_r[i])/(-(-x_l[i - 1] + x_r[i - 1])*alpha[i - 1] + (-x_l[i] + x_r[i])*alpha[i] - x_r[i - 1] + x_r[i])))/(((-x_l[i + 1] + x_r[i + 1])*alpha[i + 1] - (-x_l[i] + x_r[i])*alpha[i] + x_r[i + 1] - x_r[i])**2 + ((-y_l[i + 1] + y_r[i + 1])*alpha[i + 1] - (-y_l[i] + y_r[i])*alpha[i] + y_r[i + 1] - y_r[i])**2)**(3/2), (i, 1, N))"
            ]
          },
          "metadata": {},
          "execution_count": 26
        }
      ]
    },
    {
      "cell_type": "code",
      "metadata": {
        "colab": {
          "base_uri": "https://localhost:8080/",
          "height": 70
        },
        "id": "rcpzmpDdUPZf",
        "outputId": "61e48606-e928-4d4a-da90-2d935c542e57"
      },
      "source": [
        "gradient_jl = Jl.diff(a[i])\n",
        "gradient_code_jl = sympy.ccode(gradient_jl) \\\n",
        "    .replace(\"x_l[i]\", \"leftpoints(idx, 1)\") \\\n",
        "    .replace(\"x_l[i + 1]\", \"leftpoints(idx+1, 1)\") \\\n",
        "    .replace(\"x_r[i]\", \"rightpoints(idx, 1)\") \\\n",
        "    .replace(\"x_r[i + 1]\", \"rightpoints(idx+1, 1)\") \\\n",
        "    .replace(\"y_l[i]\", \"leftpoints(idx, 2)\") \\\n",
        "    .replace(\"y_l[i + 1]\", \"leftpoints(idx+1, 2)\") \\\n",
        "    .replace(\"y_r[i]\", \"rightpoints(idx, 2)\") \\\n",
        "    .replace(\"y_r[i + 1]\", \"rightpoints(idx+1, 2)\") \\\n",
        "    .replace(\"x_l[i - 1]\", \"leftpoints(idx-1, 1)\") \\\n",
        "    .replace(\"y_l[i - 1]\", \"leftpoints(idx-1, 2)\") \\\n",
        "    .replace(\"x_r[i - 1]\", \"rightpoints(idx-1, 1)\") \\\n",
        "    .replace(\"y_r[i - 1]\", \"rightpoints(idx-1, 2)\") \\\n",
        "    .replace(\"alpha[i]\", \"alpha(idx)\") \\\n",
        "    .replace(\"alpha[i+1]\", \"alpha(idx+1)\") \\\n",
        "    .replace(\"alpha[i-1]\", \"alpha(idx-1)\") \\\n",
        "    .replace(\"pow\", \"power\")\n",
        "gradient_code_jl"
      ],
      "execution_count": 22,
      "outputs": [
        {
          "output_type": "execute_result",
          "data": {
            "application/vnd.google.colaboratory.intrinsic+json": {
              "type": "string"
            },
            "text/plain": [
              "'(2*leftpoints(idx, 1) - 2*rightpoints(idx, 1))*((-leftpoints(idx+1, 1) + rightpoints(idx+1, 1))*alpha[i + 1] - (-leftpoints(idx, 1) + rightpoints(idx, 1))*alpha(idx) + rightpoints(idx+1, 1) - rightpoints(idx, 1)) + (2*leftpoints(idx, 2) - 2*rightpoints(idx, 2))*((-leftpoints(idx+1, 2) + rightpoints(idx+1, 2))*alpha[i + 1] - (-leftpoints(idx, 2) + rightpoints(idx, 2))*alpha(idx) + rightpoints(idx+1, 2) - rightpoints(idx, 2))'"
            ]
          },
          "metadata": {},
          "execution_count": 22
        }
      ]
    },
    {
      "cell_type": "code",
      "metadata": {
        "colab": {
          "base_uri": "https://localhost:8080/",
          "height": 139
        },
        "id": "KhdCo0RnU92t",
        "outputId": "f769c005-d088-4924-e254-094c28207eca"
      },
      "source": [
        "gradient_jp = Jp.diff(a[i])\n",
        "gradient_code_jp = sympy.ccode(gradient_jp) \\\n",
        "    .replace(\"x_l[i]\", \"leftpoints(idx, 1)\") \\\n",
        "    .replace(\"x_l[i + 1]\", \"leftpoints(idx+1, 1)\") \\\n",
        "    .replace(\"x_r[i]\", \"rightpoints(idx, 1)\") \\\n",
        "    .replace(\"x_r[i + 1]\", \"rightpoints(idx+1, 1)\") \\\n",
        "    .replace(\"y_l[i]\", \"leftpoints(idx, 2)\") \\\n",
        "    .replace(\"y_l[i + 1]\", \"leftpoints(idx+1, 2)\") \\\n",
        "    .replace(\"y_r[i]\", \"rightpoints(idx, 2)\") \\\n",
        "    .replace(\"y_r[i + 1]\", \"rightpoints(idx+1, 2)\") \\\n",
        "    .replace(\"x_l[i - 1]\", \"leftpoints(idx-1, 1)\") \\\n",
        "    .replace(\"y_l[i - 1]\", \"leftpoints(idx-1, 2)\") \\\n",
        "    .replace(\"x_r[i - 1]\", \"rightpoints(idx-1, 1)\") \\\n",
        "    .replace(\"y_r[i - 1]\", \"rightpoints(idx-1, 2)\") \\\n",
        "    .replace(\"alpha[i]\", \"alpha(idx)\") \\\n",
        "    .replace(\"alpha[i+1]\", \"alpha(idx+1)\") \\\n",
        "    .replace(\"alpha[i-1]\", \"alpha(idx-1)\") \\\n",
        "    .replace(\"pow\", \"power\")\n",
        "gradient_code_jp"
      ],
      "execution_count": 24,
      "outputs": [
        {
          "output_type": "execute_result",
          "data": {
            "application/vnd.google.colaboratory.intrinsic+json": {
              "type": "string"
            },
            "text/plain": [
              "'(-((leftpoints(idx, 1) - rightpoints(idx, 1))*(-(-leftpoints(idx-1, 2) + rightpoints(idx-1, 2))*alpha[i - 1] + (-leftpoints(idx, 2) + rightpoints(idx, 2))*alpha(idx) - rightpoints(idx-1, 2) + rightpoints(idx, 2))/power(-(-leftpoints(idx-1, 1) + rightpoints(idx-1, 1))*alpha[i - 1] + (-leftpoints(idx, 1) + rightpoints(idx, 1))*alpha(idx) - rightpoints(idx-1, 1) + rightpoints(idx, 1), 2) + (-leftpoints(idx, 2) + rightpoints(idx, 2))/(-(-leftpoints(idx-1, 1) + rightpoints(idx-1, 1))*alpha[i - 1] + (-leftpoints(idx, 1) + rightpoints(idx, 1))*alpha(idx) - rightpoints(idx-1, 1) + rightpoints(idx, 1)))/(1 + power(-(-leftpoints(idx-1, 2) + rightpoints(idx-1, 2))*alpha[i - 1] + (-leftpoints(idx, 2) + rightpoints(idx, 2))*alpha(idx) - rightpoints(idx-1, 2) + rightpoints(idx, 2), 2)/power(-(-leftpoints(idx-1, 1) + rightpoints(idx-1, 1))*alpha[i - 1] + (-leftpoints(idx, 1) + rightpoints(idx, 1))*alpha(idx) - rightpoints(idx-1, 1) + rightpoints(idx, 1), 2)) + ((-leftpoints(idx, 1) + rightpoints(idx, 1))*((-leftpoints(idx+1, 2) + rightpoints(idx+1, 2))*alpha[i + 1] - (-leftpoints(idx, 2) + rightpoints(idx, 2))*alpha(idx) + rightpoints(idx+1, 2) - rightpoints(idx, 2))/power((-leftpoints(idx+1, 1) + rightpoints(idx+1, 1))*alpha[i + 1] - (-leftpoints(idx, 1) + rightpoints(idx, 1))*alpha(idx) + rightpoints(idx+1, 1) - rightpoints(idx, 1), 2) + (leftpoints(idx, 2) - rightpoints(idx, 2))/((-leftpoints(idx+1, 1) + rightpoints(idx+1, 1))*alpha[i + 1] - (-leftpoints(idx, 1) + rightpoints(idx, 1))*alpha(idx) + rightpoints(idx+1, 1) - rightpoints(idx, 1)))/(1 + power((-leftpoints(idx+1, 2) + rightpoints(idx+1, 2))*alpha[i + 1] - (-leftpoints(idx, 2) + rightpoints(idx, 2))*alpha(idx) + rightpoints(idx+1, 2) - rightpoints(idx, 2), 2)/power((-leftpoints(idx+1, 1) + rightpoints(idx+1, 1))*alpha[i + 1] - (-leftpoints(idx, 1) + rightpoints(idx, 1))*alpha(idx) + rightpoints(idx+1, 1) - rightpoints(idx, 1), 2)))/sqrt(power((-leftpoints(idx+1, 1) + rightpoints(idx+1, 1))*alpha[i + 1] - (-leftpoints(idx, 1) + rightpoints(idx, 1))*alpha(idx) + rightpoints(idx+1, 1) - rightpoints(idx, 1), 2) + power((-leftpoints(idx+1, 2) + rightpoints(idx+1, 2))*alpha[i + 1] - (-leftpoints(idx, 2) + rightpoints(idx, 2))*alpha(idx) + rightpoints(idx+1, 2) - rightpoints(idx, 2), 2)) + (-1.0/2.0*(2*leftpoints(idx, 1) - 2*rightpoints(idx, 1))*((-leftpoints(idx+1, 1) + rightpoints(idx+1, 1))*alpha[i + 1] - (-leftpoints(idx, 1) + rightpoints(idx, 1))*alpha(idx) + rightpoints(idx+1, 1) - rightpoints(idx, 1)) - 1.0/2.0*(2*leftpoints(idx, 2) - 2*rightpoints(idx, 2))*((-leftpoints(idx+1, 2) + rightpoints(idx+1, 2))*alpha[i + 1] - (-leftpoints(idx, 2) + rightpoints(idx, 2))*alpha(idx) + rightpoints(idx+1, 2) - rightpoints(idx, 2)))*(atan(((-leftpoints(idx+1, 2) + rightpoints(idx+1, 2))*alpha[i + 1] - (-leftpoints(idx, 2) + rightpoints(idx, 2))*alpha(idx) + rightpoints(idx+1, 2) - rightpoints(idx, 2))/((-leftpoints(idx+1, 1) + rightpoints(idx+1, 1))*alpha[i + 1] - (-leftpoints(idx, 1) + rightpoints(idx, 1))*alpha(idx) + rightpoints(idx+1, 1) - rightpoints(idx, 1))) - atan((-(-leftpoints(idx-1, 2) + rightpoints(idx-1, 2))*alpha[i - 1] + (-leftpoints(idx, 2) + rightpoints(idx, 2))*alpha(idx) - rightpoints(idx-1, 2) + rightpoints(idx, 2))/(-(-leftpoints(idx-1, 1) + rightpoints(idx-1, 1))*alpha[i - 1] + (-leftpoints(idx, 1) + rightpoints(idx, 1))*alpha(idx) - rightpoints(idx-1, 1) + rightpoints(idx, 1))))/power(power((-leftpoints(idx+1, 1) + rightpoints(idx+1, 1))*alpha[i + 1] - (-leftpoints(idx, 1) + rightpoints(idx, 1))*alpha(idx) + rightpoints(idx+1, 1) - rightpoints(idx, 1), 2) + power((-leftpoints(idx+1, 2) + rightpoints(idx+1, 2))*alpha[i + 1] - (-leftpoints(idx, 2) + rightpoints(idx, 2))*alpha(idx) + rightpoints(idx+1, 2) - rightpoints(idx, 2), 2), 3.0/2.0)'"
            ]
          },
          "metadata": {},
          "execution_count": 24
        }
      ]
    },
    {
      "cell_type": "markdown",
      "metadata": {
        "id": "tmsG0EkkUPZh"
      },
      "source": [
        "## Hessian"
      ]
    },
    {
      "cell_type": "code",
      "metadata": {
        "colab": {
          "base_uri": "https://localhost:8080/",
          "height": 277
        },
        "id": "Bg-UzAYeUPZh",
        "outputId": "c8d54e6a-534a-4f35-b1b0-247d211e222a"
      },
      "source": [
        "hessian = gradient.diff(a[i])\n",
        "hessian"
      ],
      "execution_count": 27,
      "outputs": [
        {
          "output_type": "execute_result",
          "data": {
            "text/latex": "$\\displaystyle k_{l} \\sum_{i=1}^{N} \\left(\\left({x_{l}}_{i} - {x_{r}}_{i}\\right) \\left(2 {x_{l}}_{i} - 2 {x_{r}}_{i}\\right) + \\left({y_{l}}_{i} - {y_{r}}_{i}\\right) \\left(2 {y_{l}}_{i} - 2 {y_{r}}_{i}\\right)\\right) + k_{p} \\sum_{i=1}^{N} \\left(\\frac{2 \\left(- \\frac{\\frac{\\left({x_{l}}_{i} - {x_{r}}_{i}\\right) \\left(- \\left(- {y_{l}}_{i - 1} + {y_{r}}_{i - 1}\\right) {\\alpha}_{i - 1} + \\left(- {y_{l}}_{i} + {y_{r}}_{i}\\right) {\\alpha}_{i} - {y_{r}}_{i - 1} + {y_{r}}_{i}\\right)}{\\left(- \\left(- {x_{l}}_{i - 1} + {x_{r}}_{i - 1}\\right) {\\alpha}_{i - 1} + \\left(- {x_{l}}_{i} + {x_{r}}_{i}\\right) {\\alpha}_{i} - {x_{r}}_{i - 1} + {x_{r}}_{i}\\right)^{2}} + \\frac{- {y_{l}}_{i} + {y_{r}}_{i}}{- \\left(- {x_{l}}_{i - 1} + {x_{r}}_{i - 1}\\right) {\\alpha}_{i - 1} + \\left(- {x_{l}}_{i} + {x_{r}}_{i}\\right) {\\alpha}_{i} - {x_{r}}_{i - 1} + {x_{r}}_{i}}}{1 + \\frac{\\left(- \\left(- {y_{l}}_{i - 1} + {y_{r}}_{i - 1}\\right) {\\alpha}_{i - 1} + \\left(- {y_{l}}_{i} + {y_{r}}_{i}\\right) {\\alpha}_{i} - {y_{r}}_{i - 1} + {y_{r}}_{i}\\right)^{2}}{\\left(- \\left(- {x_{l}}_{i - 1} + {x_{r}}_{i - 1}\\right) {\\alpha}_{i - 1} + \\left(- {x_{l}}_{i} + {x_{r}}_{i}\\right) {\\alpha}_{i} - {x_{r}}_{i - 1} + {x_{r}}_{i}\\right)^{2}}} + \\frac{\\frac{\\left(- {x_{l}}_{i} + {x_{r}}_{i}\\right) \\left(\\left(- {y_{l}}_{i + 1} + {y_{r}}_{i + 1}\\right) {\\alpha}_{i + 1} - \\left(- {y_{l}}_{i} + {y_{r}}_{i}\\right) {\\alpha}_{i} + {y_{r}}_{i + 1} - {y_{r}}_{i}\\right)}{\\left(\\left(- {x_{l}}_{i + 1} + {x_{r}}_{i + 1}\\right) {\\alpha}_{i + 1} - \\left(- {x_{l}}_{i} + {x_{r}}_{i}\\right) {\\alpha}_{i} + {x_{r}}_{i + 1} - {x_{r}}_{i}\\right)^{2}} + \\frac{{y_{l}}_{i} - {y_{r}}_{i}}{\\left(- {x_{l}}_{i + 1} + {x_{r}}_{i + 1}\\right) {\\alpha}_{i + 1} - \\left(- {x_{l}}_{i} + {x_{r}}_{i}\\right) {\\alpha}_{i} + {x_{r}}_{i + 1} - {x_{r}}_{i}}}{1 + \\frac{\\left(\\left(- {y_{l}}_{i + 1} + {y_{r}}_{i + 1}\\right) {\\alpha}_{i + 1} - \\left(- {y_{l}}_{i} + {y_{r}}_{i}\\right) {\\alpha}_{i} + {y_{r}}_{i + 1} - {y_{r}}_{i}\\right)^{2}}{\\left(\\left(- {x_{l}}_{i + 1} + {x_{r}}_{i + 1}\\right) {\\alpha}_{i + 1} - \\left(- {x_{l}}_{i} + {x_{r}}_{i}\\right) {\\alpha}_{i} + {x_{r}}_{i + 1} - {x_{r}}_{i}\\right)^{2}}}\\right) \\left(- \\frac{\\left(2 {x_{l}}_{i} - 2 {x_{r}}_{i}\\right) \\left(\\left(- {x_{l}}_{i + 1} + {x_{r}}_{i + 1}\\right) {\\alpha}_{i + 1} - \\left(- {x_{l}}_{i} + {x_{r}}_{i}\\right) {\\alpha}_{i} + {x_{r}}_{i + 1} - {x_{r}}_{i}\\right)}{2} - \\frac{\\left(2 {y_{l}}_{i} - 2 {y_{r}}_{i}\\right) \\left(\\left(- {y_{l}}_{i + 1} + {y_{r}}_{i + 1}\\right) {\\alpha}_{i + 1} - \\left(- {y_{l}}_{i} + {y_{r}}_{i}\\right) {\\alpha}_{i} + {y_{r}}_{i + 1} - {y_{r}}_{i}\\right)}{2}\\right)}{\\left(\\left(\\left(- {x_{l}}_{i + 1} + {x_{r}}_{i + 1}\\right) {\\alpha}_{i + 1} - \\left(- {x_{l}}_{i} + {x_{r}}_{i}\\right) {\\alpha}_{i} + {x_{r}}_{i + 1} - {x_{r}}_{i}\\right)^{2} + \\left(\\left(- {y_{l}}_{i + 1} + {y_{r}}_{i + 1}\\right) {\\alpha}_{i + 1} - \\left(- {y_{l}}_{i} + {y_{r}}_{i}\\right) {\\alpha}_{i} + {y_{r}}_{i + 1} - {y_{r}}_{i}\\right)^{2}\\right)^{\\frac{3}{2}}} + \\frac{\\left(\\left(- {x_{l}}_{i} + {x_{r}}_{i}\\right) \\left({x_{l}}_{i} - {x_{r}}_{i}\\right) + \\left(- {y_{l}}_{i} + {y_{r}}_{i}\\right) \\left({y_{l}}_{i} - {y_{r}}_{i}\\right)\\right) \\left(\\operatorname{atan}{\\left(\\frac{\\left(- {y_{l}}_{i + 1} + {y_{r}}_{i + 1}\\right) {\\alpha}_{i + 1} - \\left(- {y_{l}}_{i} + {y_{r}}_{i}\\right) {\\alpha}_{i} + {y_{r}}_{i + 1} - {y_{r}}_{i}}{\\left(- {x_{l}}_{i + 1} + {x_{r}}_{i + 1}\\right) {\\alpha}_{i + 1} - \\left(- {x_{l}}_{i} + {x_{r}}_{i}\\right) {\\alpha}_{i} + {x_{r}}_{i + 1} - {x_{r}}_{i}} \\right)} - \\operatorname{atan}{\\left(\\frac{- \\left(- {y_{l}}_{i - 1} + {y_{r}}_{i - 1}\\right) {\\alpha}_{i - 1} + \\left(- {y_{l}}_{i} + {y_{r}}_{i}\\right) {\\alpha}_{i} - {y_{r}}_{i - 1} + {y_{r}}_{i}}{- \\left(- {x_{l}}_{i - 1} + {x_{r}}_{i - 1}\\right) {\\alpha}_{i - 1} + \\left(- {x_{l}}_{i} + {x_{r}}_{i}\\right) {\\alpha}_{i} - {x_{r}}_{i - 1} + {x_{r}}_{i}} \\right)}\\right)}{\\left(\\left(\\left(- {x_{l}}_{i + 1} + {x_{r}}_{i + 1}\\right) {\\alpha}_{i + 1} - \\left(- {x_{l}}_{i} + {x_{r}}_{i}\\right) {\\alpha}_{i} + {x_{r}}_{i + 1} - {x_{r}}_{i}\\right)^{2} + \\left(\\left(- {y_{l}}_{i + 1} + {y_{r}}_{i + 1}\\right) {\\alpha}_{i + 1} - \\left(- {y_{l}}_{i} + {y_{r}}_{i}\\right) {\\alpha}_{i} + {y_{r}}_{i + 1} - {y_{r}}_{i}\\right)^{2}\\right)^{\\frac{3}{2}}} + \\frac{\\left(- \\frac{3 \\left(2 {x_{l}}_{i} - 2 {x_{r}}_{i}\\right) \\left(\\left(- {x_{l}}_{i + 1} + {x_{r}}_{i + 1}\\right) {\\alpha}_{i + 1} - \\left(- {x_{l}}_{i} + {x_{r}}_{i}\\right) {\\alpha}_{i} + {x_{r}}_{i + 1} - {x_{r}}_{i}\\right)}{2} - \\frac{3 \\left(2 {y_{l}}_{i} - 2 {y_{r}}_{i}\\right) \\left(\\left(- {y_{l}}_{i + 1} + {y_{r}}_{i + 1}\\right) {\\alpha}_{i + 1} - \\left(- {y_{l}}_{i} + {y_{r}}_{i}\\right) {\\alpha}_{i} + {y_{r}}_{i + 1} - {y_{r}}_{i}\\right)}{2}\\right) \\left(- \\frac{\\left(2 {x_{l}}_{i} - 2 {x_{r}}_{i}\\right) \\left(\\left(- {x_{l}}_{i + 1} + {x_{r}}_{i + 1}\\right) {\\alpha}_{i + 1} - \\left(- {x_{l}}_{i} + {x_{r}}_{i}\\right) {\\alpha}_{i} + {x_{r}}_{i + 1} - {x_{r}}_{i}\\right)}{2} - \\frac{\\left(2 {y_{l}}_{i} - 2 {y_{r}}_{i}\\right) \\left(\\left(- {y_{l}}_{i + 1} + {y_{r}}_{i + 1}\\right) {\\alpha}_{i + 1} - \\left(- {y_{l}}_{i} + {y_{r}}_{i}\\right) {\\alpha}_{i} + {y_{r}}_{i + 1} - {y_{r}}_{i}\\right)}{2}\\right) \\left(\\operatorname{atan}{\\left(\\frac{\\left(- {y_{l}}_{i + 1} + {y_{r}}_{i + 1}\\right) {\\alpha}_{i + 1} - \\left(- {y_{l}}_{i} + {y_{r}}_{i}\\right) {\\alpha}_{i} + {y_{r}}_{i + 1} - {y_{r}}_{i}}{\\left(- {x_{l}}_{i + 1} + {x_{r}}_{i + 1}\\right) {\\alpha}_{i + 1} - \\left(- {x_{l}}_{i} + {x_{r}}_{i}\\right) {\\alpha}_{i} + {x_{r}}_{i + 1} - {x_{r}}_{i}} \\right)} - \\operatorname{atan}{\\left(\\frac{- \\left(- {y_{l}}_{i - 1} + {y_{r}}_{i - 1}\\right) {\\alpha}_{i - 1} + \\left(- {y_{l}}_{i} + {y_{r}}_{i}\\right) {\\alpha}_{i} - {y_{r}}_{i - 1} + {y_{r}}_{i}}{- \\left(- {x_{l}}_{i - 1} + {x_{r}}_{i - 1}\\right) {\\alpha}_{i - 1} + \\left(- {x_{l}}_{i} + {x_{r}}_{i}\\right) {\\alpha}_{i} - {x_{r}}_{i - 1} + {x_{r}}_{i}} \\right)}\\right)}{\\left(\\left(\\left(- {x_{l}}_{i + 1} + {x_{r}}_{i + 1}\\right) {\\alpha}_{i + 1} - \\left(- {x_{l}}_{i} + {x_{r}}_{i}\\right) {\\alpha}_{i} + {x_{r}}_{i + 1} - {x_{r}}_{i}\\right)^{2} + \\left(\\left(- {y_{l}}_{i + 1} + {y_{r}}_{i + 1}\\right) {\\alpha}_{i + 1} - \\left(- {y_{l}}_{i} + {y_{r}}_{i}\\right) {\\alpha}_{i} + {y_{r}}_{i + 1} - {y_{r}}_{i}\\right)^{2}\\right)^{\\frac{5}{2}}} + \\frac{- \\frac{\\frac{\\left({x_{l}}_{i} - {x_{r}}_{i}\\right) \\left(2 {x_{l}}_{i} - 2 {x_{r}}_{i}\\right) \\left(- \\left(- {y_{l}}_{i - 1} + {y_{r}}_{i - 1}\\right) {\\alpha}_{i - 1} + \\left(- {y_{l}}_{i} + {y_{r}}_{i}\\right) {\\alpha}_{i} - {y_{r}}_{i - 1} + {y_{r}}_{i}\\right)}{\\left(- \\left(- {x_{l}}_{i - 1} + {x_{r}}_{i - 1}\\right) {\\alpha}_{i - 1} + \\left(- {x_{l}}_{i} + {x_{r}}_{i}\\right) {\\alpha}_{i} - {x_{r}}_{i - 1} + {x_{r}}_{i}\\right)^{3}} + \\frac{2 \\left({x_{l}}_{i} - {x_{r}}_{i}\\right) \\left(- {y_{l}}_{i} + {y_{r}}_{i}\\right)}{\\left(- \\left(- {x_{l}}_{i - 1} + {x_{r}}_{i - 1}\\right) {\\alpha}_{i - 1} + \\left(- {x_{l}}_{i} + {x_{r}}_{i}\\right) {\\alpha}_{i} - {x_{r}}_{i - 1} + {x_{r}}_{i}\\right)^{2}}}{1 + \\frac{\\left(- \\left(- {y_{l}}_{i - 1} + {y_{r}}_{i - 1}\\right) {\\alpha}_{i - 1} + \\left(- {y_{l}}_{i} + {y_{r}}_{i}\\right) {\\alpha}_{i} - {y_{r}}_{i - 1} + {y_{r}}_{i}\\right)^{2}}{\\left(- \\left(- {x_{l}}_{i - 1} + {x_{r}}_{i - 1}\\right) {\\alpha}_{i - 1} + \\left(- {x_{l}}_{i} + {x_{r}}_{i}\\right) {\\alpha}_{i} - {x_{r}}_{i - 1} + {x_{r}}_{i}\\right)^{2}}} - \\frac{\\left(\\frac{\\left({x_{l}}_{i} - {x_{r}}_{i}\\right) \\left(- \\left(- {y_{l}}_{i - 1} + {y_{r}}_{i - 1}\\right) {\\alpha}_{i - 1} + \\left(- {y_{l}}_{i} + {y_{r}}_{i}\\right) {\\alpha}_{i} - {y_{r}}_{i - 1} + {y_{r}}_{i}\\right)}{\\left(- \\left(- {x_{l}}_{i - 1} + {x_{r}}_{i - 1}\\right) {\\alpha}_{i - 1} + \\left(- {x_{l}}_{i} + {x_{r}}_{i}\\right) {\\alpha}_{i} - {x_{r}}_{i - 1} + {x_{r}}_{i}\\right)^{2}} + \\frac{- {y_{l}}_{i} + {y_{r}}_{i}}{- \\left(- {x_{l}}_{i - 1} + {x_{r}}_{i - 1}\\right) {\\alpha}_{i - 1} + \\left(- {x_{l}}_{i} + {x_{r}}_{i}\\right) {\\alpha}_{i} - {x_{r}}_{i - 1} + {x_{r}}_{i}}\\right) \\left(- \\frac{\\left(2 {x_{l}}_{i} - 2 {x_{r}}_{i}\\right) \\left(- \\left(- {y_{l}}_{i - 1} + {y_{r}}_{i - 1}\\right) {\\alpha}_{i - 1} + \\left(- {y_{l}}_{i} + {y_{r}}_{i}\\right) {\\alpha}_{i} - {y_{r}}_{i - 1} + {y_{r}}_{i}\\right)^{2}}{\\left(- \\left(- {x_{l}}_{i - 1} + {x_{r}}_{i - 1}\\right) {\\alpha}_{i - 1} + \\left(- {x_{l}}_{i} + {x_{r}}_{i}\\right) {\\alpha}_{i} - {x_{r}}_{i - 1} + {x_{r}}_{i}\\right)^{3}} - \\frac{\\left(- 2 {y_{l}}_{i} + 2 {y_{r}}_{i}\\right) \\left(- \\left(- {y_{l}}_{i - 1} + {y_{r}}_{i - 1}\\right) {\\alpha}_{i - 1} + \\left(- {y_{l}}_{i} + {y_{r}}_{i}\\right) {\\alpha}_{i} - {y_{r}}_{i - 1} + {y_{r}}_{i}\\right)}{\\left(- \\left(- {x_{l}}_{i - 1} + {x_{r}}_{i - 1}\\right) {\\alpha}_{i - 1} + \\left(- {x_{l}}_{i} + {x_{r}}_{i}\\right) {\\alpha}_{i} - {x_{r}}_{i - 1} + {x_{r}}_{i}\\right)^{2}}\\right)}{\\left(1 + \\frac{\\left(- \\left(- {y_{l}}_{i - 1} + {y_{r}}_{i - 1}\\right) {\\alpha}_{i - 1} + \\left(- {y_{l}}_{i} + {y_{r}}_{i}\\right) {\\alpha}_{i} - {y_{r}}_{i - 1} + {y_{r}}_{i}\\right)^{2}}{\\left(- \\left(- {x_{l}}_{i - 1} + {x_{r}}_{i - 1}\\right) {\\alpha}_{i - 1} + \\left(- {x_{l}}_{i} + {x_{r}}_{i}\\right) {\\alpha}_{i} - {x_{r}}_{i - 1} + {x_{r}}_{i}\\right)^{2}}\\right)^{2}} + \\frac{\\frac{\\left(- 2 {x_{l}}_{i} + 2 {x_{r}}_{i}\\right) \\left(- {x_{l}}_{i} + {x_{r}}_{i}\\right) \\left(\\left(- {y_{l}}_{i + 1} + {y_{r}}_{i + 1}\\right) {\\alpha}_{i + 1} - \\left(- {y_{l}}_{i} + {y_{r}}_{i}\\right) {\\alpha}_{i} + {y_{r}}_{i + 1} - {y_{r}}_{i}\\right)}{\\left(\\left(- {x_{l}}_{i + 1} + {x_{r}}_{i + 1}\\right) {\\alpha}_{i + 1} - \\left(- {x_{l}}_{i} + {x_{r}}_{i}\\right) {\\alpha}_{i} + {x_{r}}_{i + 1} - {x_{r}}_{i}\\right)^{3}} + \\frac{2 \\left(- {x_{l}}_{i} + {x_{r}}_{i}\\right) \\left({y_{l}}_{i} - {y_{r}}_{i}\\right)}{\\left(\\left(- {x_{l}}_{i + 1} + {x_{r}}_{i + 1}\\right) {\\alpha}_{i + 1} - \\left(- {x_{l}}_{i} + {x_{r}}_{i}\\right) {\\alpha}_{i} + {x_{r}}_{i + 1} - {x_{r}}_{i}\\right)^{2}}}{1 + \\frac{\\left(\\left(- {y_{l}}_{i + 1} + {y_{r}}_{i + 1}\\right) {\\alpha}_{i + 1} - \\left(- {y_{l}}_{i} + {y_{r}}_{i}\\right) {\\alpha}_{i} + {y_{r}}_{i + 1} - {y_{r}}_{i}\\right)^{2}}{\\left(\\left(- {x_{l}}_{i + 1} + {x_{r}}_{i + 1}\\right) {\\alpha}_{i + 1} - \\left(- {x_{l}}_{i} + {x_{r}}_{i}\\right) {\\alpha}_{i} + {x_{r}}_{i + 1} - {x_{r}}_{i}\\right)^{2}}} + \\frac{\\left(- \\frac{\\left(- 2 {x_{l}}_{i} + 2 {x_{r}}_{i}\\right) \\left(\\left(- {y_{l}}_{i + 1} + {y_{r}}_{i + 1}\\right) {\\alpha}_{i + 1} - \\left(- {y_{l}}_{i} + {y_{r}}_{i}\\right) {\\alpha}_{i} + {y_{r}}_{i + 1} - {y_{r}}_{i}\\right)^{2}}{\\left(\\left(- {x_{l}}_{i + 1} + {x_{r}}_{i + 1}\\right) {\\alpha}_{i + 1} - \\left(- {x_{l}}_{i} + {x_{r}}_{i}\\right) {\\alpha}_{i} + {x_{r}}_{i + 1} - {x_{r}}_{i}\\right)^{3}} - \\frac{\\left(2 {y_{l}}_{i} - 2 {y_{r}}_{i}\\right) \\left(\\left(- {y_{l}}_{i + 1} + {y_{r}}_{i + 1}\\right) {\\alpha}_{i + 1} - \\left(- {y_{l}}_{i} + {y_{r}}_{i}\\right) {\\alpha}_{i} + {y_{r}}_{i + 1} - {y_{r}}_{i}\\right)}{\\left(\\left(- {x_{l}}_{i + 1} + {x_{r}}_{i + 1}\\right) {\\alpha}_{i + 1} - \\left(- {x_{l}}_{i} + {x_{r}}_{i}\\right) {\\alpha}_{i} + {x_{r}}_{i + 1} - {x_{r}}_{i}\\right)^{2}}\\right) \\left(\\frac{\\left(- {x_{l}}_{i} + {x_{r}}_{i}\\right) \\left(\\left(- {y_{l}}_{i + 1} + {y_{r}}_{i + 1}\\right) {\\alpha}_{i + 1} - \\left(- {y_{l}}_{i} + {y_{r}}_{i}\\right) {\\alpha}_{i} + {y_{r}}_{i + 1} - {y_{r}}_{i}\\right)}{\\left(\\left(- {x_{l}}_{i + 1} + {x_{r}}_{i + 1}\\right) {\\alpha}_{i + 1} - \\left(- {x_{l}}_{i} + {x_{r}}_{i}\\right) {\\alpha}_{i} + {x_{r}}_{i + 1} - {x_{r}}_{i}\\right)^{2}} + \\frac{{y_{l}}_{i} - {y_{r}}_{i}}{\\left(- {x_{l}}_{i + 1} + {x_{r}}_{i + 1}\\right) {\\alpha}_{i + 1} - \\left(- {x_{l}}_{i} + {x_{r}}_{i}\\right) {\\alpha}_{i} + {x_{r}}_{i + 1} - {x_{r}}_{i}}\\right)}{\\left(1 + \\frac{\\left(\\left(- {y_{l}}_{i + 1} + {y_{r}}_{i + 1}\\right) {\\alpha}_{i + 1} - \\left(- {y_{l}}_{i} + {y_{r}}_{i}\\right) {\\alpha}_{i} + {y_{r}}_{i + 1} - {y_{r}}_{i}\\right)^{2}}{\\left(\\left(- {x_{l}}_{i + 1} + {x_{r}}_{i + 1}\\right) {\\alpha}_{i + 1} - \\left(- {x_{l}}_{i} + {x_{r}}_{i}\\right) {\\alpha}_{i} + {x_{r}}_{i + 1} - {x_{r}}_{i}\\right)^{2}}\\right)^{2}}}{\\sqrt{\\left(\\left(- {x_{l}}_{i + 1} + {x_{r}}_{i + 1}\\right) {\\alpha}_{i + 1} - \\left(- {x_{l}}_{i} + {x_{r}}_{i}\\right) {\\alpha}_{i} + {x_{r}}_{i + 1} - {x_{r}}_{i}\\right)^{2} + \\left(\\left(- {y_{l}}_{i + 1} + {y_{r}}_{i + 1}\\right) {\\alpha}_{i + 1} - \\left(- {y_{l}}_{i} + {y_{r}}_{i}\\right) {\\alpha}_{i} + {y_{r}}_{i + 1} - {y_{r}}_{i}\\right)^{2}}}\\right)$",
            "text/plain": [
              "k_l*Sum((x_l[i] - x_r[i])*(2*x_l[i] - 2*x_r[i]) + (y_l[i] - y_r[i])*(2*y_l[i] - 2*y_r[i]), (i, 1, N)) + k_p*Sum(2*(-((x_l[i] - x_r[i])*(-(-y_l[i - 1] + y_r[i - 1])*alpha[i - 1] + (-y_l[i] + y_r[i])*alpha[i] - y_r[i - 1] + y_r[i])/(-(-x_l[i - 1] + x_r[i - 1])*alpha[i - 1] + (-x_l[i] + x_r[i])*alpha[i] - x_r[i - 1] + x_r[i])**2 + (-y_l[i] + y_r[i])/(-(-x_l[i - 1] + x_r[i - 1])*alpha[i - 1] + (-x_l[i] + x_r[i])*alpha[i] - x_r[i - 1] + x_r[i]))/(1 + (-(-y_l[i - 1] + y_r[i - 1])*alpha[i - 1] + (-y_l[i] + y_r[i])*alpha[i] - y_r[i - 1] + y_r[i])**2/(-(-x_l[i - 1] + x_r[i - 1])*alpha[i - 1] + (-x_l[i] + x_r[i])*alpha[i] - x_r[i - 1] + x_r[i])**2) + ((-x_l[i] + x_r[i])*((-y_l[i + 1] + y_r[i + 1])*alpha[i + 1] - (-y_l[i] + y_r[i])*alpha[i] + y_r[i + 1] - y_r[i])/((-x_l[i + 1] + x_r[i + 1])*alpha[i + 1] - (-x_l[i] + x_r[i])*alpha[i] + x_r[i + 1] - x_r[i])**2 + (y_l[i] - y_r[i])/((-x_l[i + 1] + x_r[i + 1])*alpha[i + 1] - (-x_l[i] + x_r[i])*alpha[i] + x_r[i + 1] - x_r[i]))/(1 + ((-y_l[i + 1] + y_r[i + 1])*alpha[i + 1] - (-y_l[i] + y_r[i])*alpha[i] + y_r[i + 1] - y_r[i])**2/((-x_l[i + 1] + x_r[i + 1])*alpha[i + 1] - (-x_l[i] + x_r[i])*alpha[i] + x_r[i + 1] - x_r[i])**2))*(-(2*x_l[i] - 2*x_r[i])*((-x_l[i + 1] + x_r[i + 1])*alpha[i + 1] - (-x_l[i] + x_r[i])*alpha[i] + x_r[i + 1] - x_r[i])/2 - (2*y_l[i] - 2*y_r[i])*((-y_l[i + 1] + y_r[i + 1])*alpha[i + 1] - (-y_l[i] + y_r[i])*alpha[i] + y_r[i + 1] - y_r[i])/2)/(((-x_l[i + 1] + x_r[i + 1])*alpha[i + 1] - (-x_l[i] + x_r[i])*alpha[i] + x_r[i + 1] - x_r[i])**2 + ((-y_l[i + 1] + y_r[i + 1])*alpha[i + 1] - (-y_l[i] + y_r[i])*alpha[i] + y_r[i + 1] - y_r[i])**2)**(3/2) + ((-x_l[i] + x_r[i])*(x_l[i] - x_r[i]) + (-y_l[i] + y_r[i])*(y_l[i] - y_r[i]))*(atan(((-y_l[i + 1] + y_r[i + 1])*alpha[i + 1] - (-y_l[i] + y_r[i])*alpha[i] + y_r[i + 1] - y_r[i])/((-x_l[i + 1] + x_r[i + 1])*alpha[i + 1] - (-x_l[i] + x_r[i])*alpha[i] + x_r[i + 1] - x_r[i])) - atan((-(-y_l[i - 1] + y_r[i - 1])*alpha[i - 1] + (-y_l[i] + y_r[i])*alpha[i] - y_r[i - 1] + y_r[i])/(-(-x_l[i - 1] + x_r[i - 1])*alpha[i - 1] + (-x_l[i] + x_r[i])*alpha[i] - x_r[i - 1] + x_r[i])))/(((-x_l[i + 1] + x_r[i + 1])*alpha[i + 1] - (-x_l[i] + x_r[i])*alpha[i] + x_r[i + 1] - x_r[i])**2 + ((-y_l[i + 1] + y_r[i + 1])*alpha[i + 1] - (-y_l[i] + y_r[i])*alpha[i] + y_r[i + 1] - y_r[i])**2)**(3/2) + (-3*(2*x_l[i] - 2*x_r[i])*((-x_l[i + 1] + x_r[i + 1])*alpha[i + 1] - (-x_l[i] + x_r[i])*alpha[i] + x_r[i + 1] - x_r[i])/2 - 3*(2*y_l[i] - 2*y_r[i])*((-y_l[i + 1] + y_r[i + 1])*alpha[i + 1] - (-y_l[i] + y_r[i])*alpha[i] + y_r[i + 1] - y_r[i])/2)*(-(2*x_l[i] - 2*x_r[i])*((-x_l[i + 1] + x_r[i + 1])*alpha[i + 1] - (-x_l[i] + x_r[i])*alpha[i] + x_r[i + 1] - x_r[i])/2 - (2*y_l[i] - 2*y_r[i])*((-y_l[i + 1] + y_r[i + 1])*alpha[i + 1] - (-y_l[i] + y_r[i])*alpha[i] + y_r[i + 1] - y_r[i])/2)*(atan(((-y_l[i + 1] + y_r[i + 1])*alpha[i + 1] - (-y_l[i] + y_r[i])*alpha[i] + y_r[i + 1] - y_r[i])/((-x_l[i + 1] + x_r[i + 1])*alpha[i + 1] - (-x_l[i] + x_r[i])*alpha[i] + x_r[i + 1] - x_r[i])) - atan((-(-y_l[i - 1] + y_r[i - 1])*alpha[i - 1] + (-y_l[i] + y_r[i])*alpha[i] - y_r[i - 1] + y_r[i])/(-(-x_l[i - 1] + x_r[i - 1])*alpha[i - 1] + (-x_l[i] + x_r[i])*alpha[i] - x_r[i - 1] + x_r[i])))/(((-x_l[i + 1] + x_r[i + 1])*alpha[i + 1] - (-x_l[i] + x_r[i])*alpha[i] + x_r[i + 1] - x_r[i])**2 + ((-y_l[i + 1] + y_r[i + 1])*alpha[i + 1] - (-y_l[i] + y_r[i])*alpha[i] + y_r[i + 1] - y_r[i])**2)**(5/2) + (-((x_l[i] - x_r[i])*(2*x_l[i] - 2*x_r[i])*(-(-y_l[i - 1] + y_r[i - 1])*alpha[i - 1] + (-y_l[i] + y_r[i])*alpha[i] - y_r[i - 1] + y_r[i])/(-(-x_l[i - 1] + x_r[i - 1])*alpha[i - 1] + (-x_l[i] + x_r[i])*alpha[i] - x_r[i - 1] + x_r[i])**3 + 2*(x_l[i] - x_r[i])*(-y_l[i] + y_r[i])/(-(-x_l[i - 1] + x_r[i - 1])*alpha[i - 1] + (-x_l[i] + x_r[i])*alpha[i] - x_r[i - 1] + x_r[i])**2)/(1 + (-(-y_l[i - 1] + y_r[i - 1])*alpha[i - 1] + (-y_l[i] + y_r[i])*alpha[i] - y_r[i - 1] + y_r[i])**2/(-(-x_l[i - 1] + x_r[i - 1])*alpha[i - 1] + (-x_l[i] + x_r[i])*alpha[i] - x_r[i - 1] + x_r[i])**2) - ((x_l[i] - x_r[i])*(-(-y_l[i - 1] + y_r[i - 1])*alpha[i - 1] + (-y_l[i] + y_r[i])*alpha[i] - y_r[i - 1] + y_r[i])/(-(-x_l[i - 1] + x_r[i - 1])*alpha[i - 1] + (-x_l[i] + x_r[i])*alpha[i] - x_r[i - 1] + x_r[i])**2 + (-y_l[i] + y_r[i])/(-(-x_l[i - 1] + x_r[i - 1])*alpha[i - 1] + (-x_l[i] + x_r[i])*alpha[i] - x_r[i - 1] + x_r[i]))*(-(2*x_l[i] - 2*x_r[i])*(-(-y_l[i - 1] + y_r[i - 1])*alpha[i - 1] + (-y_l[i] + y_r[i])*alpha[i] - y_r[i - 1] + y_r[i])**2/(-(-x_l[i - 1] + x_r[i - 1])*alpha[i - 1] + (-x_l[i] + x_r[i])*alpha[i] - x_r[i - 1] + x_r[i])**3 - (-2*y_l[i] + 2*y_r[i])*(-(-y_l[i - 1] + y_r[i - 1])*alpha[i - 1] + (-y_l[i] + y_r[i])*alpha[i] - y_r[i - 1] + y_r[i])/(-(-x_l[i - 1] + x_r[i - 1])*alpha[i - 1] + (-x_l[i] + x_r[i])*alpha[i] - x_r[i - 1] + x_r[i])**2)/(1 + (-(-y_l[i - 1] + y_r[i - 1])*alpha[i - 1] + (-y_l[i] + y_r[i])*alpha[i] - y_r[i - 1] + y_r[i])**2/(-(-x_l[i - 1] + x_r[i - 1])*alpha[i - 1] + (-x_l[i] + x_r[i])*alpha[i] - x_r[i - 1] + x_r[i])**2)**2 + ((-2*x_l[i] + 2*x_r[i])*(-x_l[i] + x_r[i])*((-y_l[i + 1] + y_r[i + 1])*alpha[i + 1] - (-y_l[i] + y_r[i])*alpha[i] + y_r[i + 1] - y_r[i])/((-x_l[i + 1] + x_r[i + 1])*alpha[i + 1] - (-x_l[i] + x_r[i])*alpha[i] + x_r[i + 1] - x_r[i])**3 + 2*(-x_l[i] + x_r[i])*(y_l[i] - y_r[i])/((-x_l[i + 1] + x_r[i + 1])*alpha[i + 1] - (-x_l[i] + x_r[i])*alpha[i] + x_r[i + 1] - x_r[i])**2)/(1 + ((-y_l[i + 1] + y_r[i + 1])*alpha[i + 1] - (-y_l[i] + y_r[i])*alpha[i] + y_r[i + 1] - y_r[i])**2/((-x_l[i + 1] + x_r[i + 1])*alpha[i + 1] - (-x_l[i] + x_r[i])*alpha[i] + x_r[i + 1] - x_r[i])**2) + (-(-2*x_l[i] + 2*x_r[i])*((-y_l[i + 1] + y_r[i + 1])*alpha[i + 1] - (-y_l[i] + y_r[i])*alpha[i] + y_r[i + 1] - y_r[i])**2/((-x_l[i + 1] + x_r[i + 1])*alpha[i + 1] - (-x_l[i] + x_r[i])*alpha[i] + x_r[i + 1] - x_r[i])**3 - (2*y_l[i] - 2*y_r[i])*((-y_l[i + 1] + y_r[i + 1])*alpha[i + 1] - (-y_l[i] + y_r[i])*alpha[i] + y_r[i + 1] - y_r[i])/((-x_l[i + 1] + x_r[i + 1])*alpha[i + 1] - (-x_l[i] + x_r[i])*alpha[i] + x_r[i + 1] - x_r[i])**2)*((-x_l[i] + x_r[i])*((-y_l[i + 1] + y_r[i + 1])*alpha[i + 1] - (-y_l[i] + y_r[i])*alpha[i] + y_r[i + 1] - y_r[i])/((-x_l[i + 1] + x_r[i + 1])*alpha[i + 1] - (-x_l[i] + x_r[i])*alpha[i] + x_r[i + 1] - x_r[i])**2 + (y_l[i] - y_r[i])/((-x_l[i + 1] + x_r[i + 1])*alpha[i + 1] - (-x_l[i] + x_r[i])*alpha[i] + x_r[i + 1] - x_r[i]))/(1 + ((-y_l[i + 1] + y_r[i + 1])*alpha[i + 1] - (-y_l[i] + y_r[i])*alpha[i] + y_r[i + 1] - y_r[i])**2/((-x_l[i + 1] + x_r[i + 1])*alpha[i + 1] - (-x_l[i] + x_r[i])*alpha[i] + x_r[i + 1] - x_r[i])**2)**2)/sqrt(((-x_l[i + 1] + x_r[i + 1])*alpha[i + 1] - (-x_l[i] + x_r[i])*alpha[i] + x_r[i + 1] - x_r[i])**2 + ((-y_l[i + 1] + y_r[i + 1])*alpha[i + 1] - (-y_l[i] + y_r[i])*alpha[i] + y_r[i + 1] - y_r[i])**2), (i, 1, N))"
            ]
          },
          "metadata": {},
          "execution_count": 27
        }
      ]
    },
    {
      "cell_type": "code",
      "metadata": {
        "colab": {
          "base_uri": "https://localhost:8080/",
          "height": 52
        },
        "id": "H1jm02eKUPZj",
        "outputId": "53dc147e-03a2-46aa-a55a-56cc20383ffb"
      },
      "source": [
        "hessian_jl = gradient_jl.diff(a[i])\n",
        "hessian_code_jl = sympy.ccode(hessian_jl) \\\n",
        "    .replace(\"x_l[i]\", \"leftpoints(idx, 1)\") \\\n",
        "    .replace(\"x_l[i + 1]\", \"leftpoints(idx+1, 1)\") \\\n",
        "    .replace(\"x_r[i]\", \"rightpoints(idx, 1)\") \\\n",
        "    .replace(\"x_r[i + 1]\", \"rightpoints(idx+1, 1)\") \\\n",
        "    .replace(\"y_l[i]\", \"leftpoints(idx, 2)\") \\\n",
        "    .replace(\"y_l[i + 1]\", \"leftpoints(idx+1, 2)\") \\\n",
        "    .replace(\"y_r[i]\", \"rightpoints(idx, 2)\") \\\n",
        "    .replace(\"y_r[i + 1]\", \"rightpoints(idx+1, 2)\") \\\n",
        "    .replace(\"x_l[i - 1]\", \"leftpoints(idx-1, 1)\") \\\n",
        "    .replace(\"y_l[i - 1]\", \"leftpoints(idx-1, 2)\") \\\n",
        "    .replace(\"x_r[i - 1]\", \"rightpoints(idx-1, 1)\") \\\n",
        "    .replace(\"y_r[i - 1]\", \"rightpoints(idx-1, 2)\") \\\n",
        "    .replace(\"alpha[i]\", \"alpha(idx)\") \\\n",
        "    .replace(\"alpha[i+1]\", \"alpha(idx+1)\") \\\n",
        "    .replace(\"alpha[i-1]\", \"alpha(idx-1)\") \\\n",
        "    .replace(\"pow\", \"power\")\n",
        "hessian_code_jl"
      ],
      "execution_count": 28,
      "outputs": [
        {
          "output_type": "execute_result",
          "data": {
            "application/vnd.google.colaboratory.intrinsic+json": {
              "type": "string"
            },
            "text/plain": [
              "'(leftpoints(idx, 1) - rightpoints(idx, 1))*(2*leftpoints(idx, 1) - 2*rightpoints(idx, 1)) + (leftpoints(idx, 2) - rightpoints(idx, 2))*(2*leftpoints(idx, 2) - 2*rightpoints(idx, 2))'"
            ]
          },
          "metadata": {},
          "execution_count": 28
        }
      ]
    },
    {
      "cell_type": "code",
      "metadata": {
        "colab": {
          "base_uri": "https://localhost:8080/",
          "height": 1000
        },
        "id": "X5lsaq50UPZk",
        "outputId": "e86f637b-4182-4fc9-d174-0cf323872c08"
      },
      "source": [
        "hessian_jp = gradient_jp.diff(a[i])\n",
        "hessian_code_jp = sympy.ccode(hessian_jp) \\\n",
        "    .replace(\"x_l[i]\", \"leftpoints(idx, 1)\") \\\n",
        "    .replace(\"x_l[i + 1]\", \"leftpoints(idx+1, 1)\") \\\n",
        "    .replace(\"x_r[i]\", \"rightpoints(idx, 1)\") \\\n",
        "    .replace(\"x_r[i + 1]\", \"rightpoints(idx+1, 1)\") \\\n",
        "    .replace(\"y_l[i]\", \"leftpoints(idx, 2)\") \\\n",
        "    .replace(\"y_l[i + 1]\", \"leftpoints(idx+1, 2)\") \\\n",
        "    .replace(\"y_r[i]\", \"rightpoints(idx, 2)\") \\\n",
        "    .replace(\"y_r[i + 1]\", \"rightpoints(idx+1, 2)\") \\\n",
        "    .replace(\"x_l[i - 1]\", \"leftpoints(idx-1, 1)\") \\\n",
        "    .replace(\"y_l[i - 1]\", \"leftpoints(idx-1, 2)\") \\\n",
        "    .replace(\"x_r[i - 1]\", \"rightpoints(idx-1, 1)\") \\\n",
        "    .replace(\"y_r[i - 1]\", \"rightpoints(idx-1, 2)\") \\\n",
        "    .replace(\"alpha[i]\", \"alpha(idx)\") \\\n",
        "    .replace(\"alpha[i+1]\", \"alpha(idx+1)\") \\\n",
        "    .replace(\"alpha[i-1]\", \"alpha(idx-1)\") \\\n",
        "    .replace(\"pow\", \"power\")\n",
        "hessian_code_jp"
      ],
      "execution_count": 29,
      "outputs": [
        {
          "output_type": "execute_result",
          "data": {
            "application/vnd.google.colaboratory.intrinsic+json": {
              "type": "string"
            },
            "text/plain": [
              "'2*(-((leftpoints(idx, 1) - rightpoints(idx, 1))*(-(-leftpoints(idx-1, 2) + rightpoints(idx-1, 2))*alpha[i - 1] + (-leftpoints(idx, 2) + rightpoints(idx, 2))*alpha(idx) - rightpoints(idx-1, 2) + rightpoints(idx, 2))/power(-(-leftpoints(idx-1, 1) + rightpoints(idx-1, 1))*alpha[i - 1] + (-leftpoints(idx, 1) + rightpoints(idx, 1))*alpha(idx) - rightpoints(idx-1, 1) + rightpoints(idx, 1), 2) + (-leftpoints(idx, 2) + rightpoints(idx, 2))/(-(-leftpoints(idx-1, 1) + rightpoints(idx-1, 1))*alpha[i - 1] + (-leftpoints(idx, 1) + rightpoints(idx, 1))*alpha(idx) - rightpoints(idx-1, 1) + rightpoints(idx, 1)))/(1 + power(-(-leftpoints(idx-1, 2) + rightpoints(idx-1, 2))*alpha[i - 1] + (-leftpoints(idx, 2) + rightpoints(idx, 2))*alpha(idx) - rightpoints(idx-1, 2) + rightpoints(idx, 2), 2)/power(-(-leftpoints(idx-1, 1) + rightpoints(idx-1, 1))*alpha[i - 1] + (-leftpoints(idx, 1) + rightpoints(idx, 1))*alpha(idx) - rightpoints(idx-1, 1) + rightpoints(idx, 1), 2)) + ((-leftpoints(idx, 1) + rightpoints(idx, 1))*((-leftpoints(idx+1, 2) + rightpoints(idx+1, 2))*alpha[i + 1] - (-leftpoints(idx, 2) + rightpoints(idx, 2))*alpha(idx) + rightpoints(idx+1, 2) - rightpoints(idx, 2))/power((-leftpoints(idx+1, 1) + rightpoints(idx+1, 1))*alpha[i + 1] - (-leftpoints(idx, 1) + rightpoints(idx, 1))*alpha(idx) + rightpoints(idx+1, 1) - rightpoints(idx, 1), 2) + (leftpoints(idx, 2) - rightpoints(idx, 2))/((-leftpoints(idx+1, 1) + rightpoints(idx+1, 1))*alpha[i + 1] - (-leftpoints(idx, 1) + rightpoints(idx, 1))*alpha(idx) + rightpoints(idx+1, 1) - rightpoints(idx, 1)))/(1 + power((-leftpoints(idx+1, 2) + rightpoints(idx+1, 2))*alpha[i + 1] - (-leftpoints(idx, 2) + rightpoints(idx, 2))*alpha(idx) + rightpoints(idx+1, 2) - rightpoints(idx, 2), 2)/power((-leftpoints(idx+1, 1) + rightpoints(idx+1, 1))*alpha[i + 1] - (-leftpoints(idx, 1) + rightpoints(idx, 1))*alpha(idx) + rightpoints(idx+1, 1) - rightpoints(idx, 1), 2)))*(-1.0/2.0*(2*leftpoints(idx, 1) - 2*rightpoints(idx, 1))*((-leftpoints(idx+1, 1) + rightpoints(idx+1, 1))*alpha[i + 1] - (-leftpoints(idx, 1) + rightpoints(idx, 1))*alpha(idx) + rightpoints(idx+1, 1) - rightpoints(idx, 1)) - 1.0/2.0*(2*leftpoints(idx, 2) - 2*rightpoints(idx, 2))*((-leftpoints(idx+1, 2) + rightpoints(idx+1, 2))*alpha[i + 1] - (-leftpoints(idx, 2) + rightpoints(idx, 2))*alpha(idx) + rightpoints(idx+1, 2) - rightpoints(idx, 2)))/power(power((-leftpoints(idx+1, 1) + rightpoints(idx+1, 1))*alpha[i + 1] - (-leftpoints(idx, 1) + rightpoints(idx, 1))*alpha(idx) + rightpoints(idx+1, 1) - rightpoints(idx, 1), 2) + power((-leftpoints(idx+1, 2) + rightpoints(idx+1, 2))*alpha[i + 1] - (-leftpoints(idx, 2) + rightpoints(idx, 2))*alpha(idx) + rightpoints(idx+1, 2) - rightpoints(idx, 2), 2), 3.0/2.0) + ((-leftpoints(idx, 1) + rightpoints(idx, 1))*(leftpoints(idx, 1) - rightpoints(idx, 1)) + (-leftpoints(idx, 2) + rightpoints(idx, 2))*(leftpoints(idx, 2) - rightpoints(idx, 2)))*(atan(((-leftpoints(idx+1, 2) + rightpoints(idx+1, 2))*alpha[i + 1] - (-leftpoints(idx, 2) + rightpoints(idx, 2))*alpha(idx) + rightpoints(idx+1, 2) - rightpoints(idx, 2))/((-leftpoints(idx+1, 1) + rightpoints(idx+1, 1))*alpha[i + 1] - (-leftpoints(idx, 1) + rightpoints(idx, 1))*alpha(idx) + rightpoints(idx+1, 1) - rightpoints(idx, 1))) - atan((-(-leftpoints(idx-1, 2) + rightpoints(idx-1, 2))*alpha[i - 1] + (-leftpoints(idx, 2) + rightpoints(idx, 2))*alpha(idx) - rightpoints(idx-1, 2) + rightpoints(idx, 2))/(-(-leftpoints(idx-1, 1) + rightpoints(idx-1, 1))*alpha[i - 1] + (-leftpoints(idx, 1) + rightpoints(idx, 1))*alpha(idx) - rightpoints(idx-1, 1) + rightpoints(idx, 1))))/power(power((-leftpoints(idx+1, 1) + rightpoints(idx+1, 1))*alpha[i + 1] - (-leftpoints(idx, 1) + rightpoints(idx, 1))*alpha(idx) + rightpoints(idx+1, 1) - rightpoints(idx, 1), 2) + power((-leftpoints(idx+1, 2) + rightpoints(idx+1, 2))*alpha[i + 1] - (-leftpoints(idx, 2) + rightpoints(idx, 2))*alpha(idx) + rightpoints(idx+1, 2) - rightpoints(idx, 2), 2), 3.0/2.0) + (-3.0/2.0*(2*leftpoints(idx, 1) - 2*rightpoints(idx, 1))*((-leftpoints(idx+1, 1) + rightpoints(idx+1, 1))*alpha[i + 1] - (-leftpoints(idx, 1) + rightpoints(idx, 1))*alpha(idx) + rightpoints(idx+1, 1) - rightpoints(idx, 1)) - 3.0/2.0*(2*leftpoints(idx, 2) - 2*rightpoints(idx, 2))*((-leftpoints(idx+1, 2) + rightpoints(idx+1, 2))*alpha[i + 1] - (-leftpoints(idx, 2) + rightpoints(idx, 2))*alpha(idx) + rightpoints(idx+1, 2) - rightpoints(idx, 2)))*(-1.0/2.0*(2*leftpoints(idx, 1) - 2*rightpoints(idx, 1))*((-leftpoints(idx+1, 1) + rightpoints(idx+1, 1))*alpha[i + 1] - (-leftpoints(idx, 1) + rightpoints(idx, 1))*alpha(idx) + rightpoints(idx+1, 1) - rightpoints(idx, 1)) - 1.0/2.0*(2*leftpoints(idx, 2) - 2*rightpoints(idx, 2))*((-leftpoints(idx+1, 2) + rightpoints(idx+1, 2))*alpha[i + 1] - (-leftpoints(idx, 2) + rightpoints(idx, 2))*alpha(idx) + rightpoints(idx+1, 2) - rightpoints(idx, 2)))*(atan(((-leftpoints(idx+1, 2) + rightpoints(idx+1, 2))*alpha[i + 1] - (-leftpoints(idx, 2) + rightpoints(idx, 2))*alpha(idx) + rightpoints(idx+1, 2) - rightpoints(idx, 2))/((-leftpoints(idx+1, 1) + rightpoints(idx+1, 1))*alpha[i + 1] - (-leftpoints(idx, 1) + rightpoints(idx, 1))*alpha(idx) + rightpoints(idx+1, 1) - rightpoints(idx, 1))) - atan((-(-leftpoints(idx-1, 2) + rightpoints(idx-1, 2))*alpha[i - 1] + (-leftpoints(idx, 2) + rightpoints(idx, 2))*alpha(idx) - rightpoints(idx-1, 2) + rightpoints(idx, 2))/(-(-leftpoints(idx-1, 1) + rightpoints(idx-1, 1))*alpha[i - 1] + (-leftpoints(idx, 1) + rightpoints(idx, 1))*alpha(idx) - rightpoints(idx-1, 1) + rightpoints(idx, 1))))/power(power((-leftpoints(idx+1, 1) + rightpoints(idx+1, 1))*alpha[i + 1] - (-leftpoints(idx, 1) + rightpoints(idx, 1))*alpha(idx) + rightpoints(idx+1, 1) - rightpoints(idx, 1), 2) + power((-leftpoints(idx+1, 2) + rightpoints(idx+1, 2))*alpha[i + 1] - (-leftpoints(idx, 2) + rightpoints(idx, 2))*alpha(idx) + rightpoints(idx+1, 2) - rightpoints(idx, 2), 2), 5.0/2.0) + (-((leftpoints(idx, 1) - rightpoints(idx, 1))*(2*leftpoints(idx, 1) - 2*rightpoints(idx, 1))*(-(-leftpoints(idx-1, 2) + rightpoints(idx-1, 2))*alpha[i - 1] + (-leftpoints(idx, 2) + rightpoints(idx, 2))*alpha(idx) - rightpoints(idx-1, 2) + rightpoints(idx, 2))/power(-(-leftpoints(idx-1, 1) + rightpoints(idx-1, 1))*alpha[i - 1] + (-leftpoints(idx, 1) + rightpoints(idx, 1))*alpha(idx) - rightpoints(idx-1, 1) + rightpoints(idx, 1), 3) + 2*(leftpoints(idx, 1) - rightpoints(idx, 1))*(-leftpoints(idx, 2) + rightpoints(idx, 2))/power(-(-leftpoints(idx-1, 1) + rightpoints(idx-1, 1))*alpha[i - 1] + (-leftpoints(idx, 1) + rightpoints(idx, 1))*alpha(idx) - rightpoints(idx-1, 1) + rightpoints(idx, 1), 2))/(1 + power(-(-leftpoints(idx-1, 2) + rightpoints(idx-1, 2))*alpha[i - 1] + (-leftpoints(idx, 2) + rightpoints(idx, 2))*alpha(idx) - rightpoints(idx-1, 2) + rightpoints(idx, 2), 2)/power(-(-leftpoints(idx-1, 1) + rightpoints(idx-1, 1))*alpha[i - 1] + (-leftpoints(idx, 1) + rightpoints(idx, 1))*alpha(idx) - rightpoints(idx-1, 1) + rightpoints(idx, 1), 2)) - ((leftpoints(idx, 1) - rightpoints(idx, 1))*(-(-leftpoints(idx-1, 2) + rightpoints(idx-1, 2))*alpha[i - 1] + (-leftpoints(idx, 2) + rightpoints(idx, 2))*alpha(idx) - rightpoints(idx-1, 2) + rightpoints(idx, 2))/power(-(-leftpoints(idx-1, 1) + rightpoints(idx-1, 1))*alpha[i - 1] + (-leftpoints(idx, 1) + rightpoints(idx, 1))*alpha(idx) - rightpoints(idx-1, 1) + rightpoints(idx, 1), 2) + (-leftpoints(idx, 2) + rightpoints(idx, 2))/(-(-leftpoints(idx-1, 1) + rightpoints(idx-1, 1))*alpha[i - 1] + (-leftpoints(idx, 1) + rightpoints(idx, 1))*alpha(idx) - rightpoints(idx-1, 1) + rightpoints(idx, 1)))*(-(2*leftpoints(idx, 1) - 2*rightpoints(idx, 1))*power(-(-leftpoints(idx-1, 2) + rightpoints(idx-1, 2))*alpha[i - 1] + (-leftpoints(idx, 2) + rightpoints(idx, 2))*alpha(idx) - rightpoints(idx-1, 2) + rightpoints(idx, 2), 2)/power(-(-leftpoints(idx-1, 1) + rightpoints(idx-1, 1))*alpha[i - 1] + (-leftpoints(idx, 1) + rightpoints(idx, 1))*alpha(idx) - rightpoints(idx-1, 1) + rightpoints(idx, 1), 3) - (-2*leftpoints(idx, 2) + 2*rightpoints(idx, 2))*(-(-leftpoints(idx-1, 2) + rightpoints(idx-1, 2))*alpha[i - 1] + (-leftpoints(idx, 2) + rightpoints(idx, 2))*alpha(idx) - rightpoints(idx-1, 2) + rightpoints(idx, 2))/power(-(-leftpoints(idx-1, 1) + rightpoints(idx-1, 1))*alpha[i - 1] + (-leftpoints(idx, 1) + rightpoints(idx, 1))*alpha(idx) - rightpoints(idx-1, 1) + rightpoints(idx, 1), 2))/power(1 + power(-(-leftpoints(idx-1, 2) + rightpoints(idx-1, 2))*alpha[i - 1] + (-leftpoints(idx, 2) + rightpoints(idx, 2))*alpha(idx) - rightpoints(idx-1, 2) + rightpoints(idx, 2), 2)/power(-(-leftpoints(idx-1, 1) + rightpoints(idx-1, 1))*alpha[i - 1] + (-leftpoints(idx, 1) + rightpoints(idx, 1))*alpha(idx) - rightpoints(idx-1, 1) + rightpoints(idx, 1), 2), 2) + ((-2*leftpoints(idx, 1) + 2*rightpoints(idx, 1))*(-leftpoints(idx, 1) + rightpoints(idx, 1))*((-leftpoints(idx+1, 2) + rightpoints(idx+1, 2))*alpha[i + 1] - (-leftpoints(idx, 2) + rightpoints(idx, 2))*alpha(idx) + rightpoints(idx+1, 2) - rightpoints(idx, 2))/power((-leftpoints(idx+1, 1) + rightpoints(idx+1, 1))*alpha[i + 1] - (-leftpoints(idx, 1) + rightpoints(idx, 1))*alpha(idx) + rightpoints(idx+1, 1) - rightpoints(idx, 1), 3) + 2*(-leftpoints(idx, 1) + rightpoints(idx, 1))*(leftpoints(idx, 2) - rightpoints(idx, 2))/power((-leftpoints(idx+1, 1) + rightpoints(idx+1, 1))*alpha[i + 1] - (-leftpoints(idx, 1) + rightpoints(idx, 1))*alpha(idx) + rightpoints(idx+1, 1) - rightpoints(idx, 1), 2))/(1 + power((-leftpoints(idx+1, 2) + rightpoints(idx+1, 2))*alpha[i + 1] - (-leftpoints(idx, 2) + rightpoints(idx, 2))*alpha(idx) + rightpoints(idx+1, 2) - rightpoints(idx, 2), 2)/power((-leftpoints(idx+1, 1) + rightpoints(idx+1, 1))*alpha[i + 1] - (-leftpoints(idx, 1) + rightpoints(idx, 1))*alpha(idx) + rightpoints(idx+1, 1) - rightpoints(idx, 1), 2)) + (-(-2*leftpoints(idx, 1) + 2*rightpoints(idx, 1))*power((-leftpoints(idx+1, 2) + rightpoints(idx+1, 2))*alpha[i + 1] - (-leftpoints(idx, 2) + rightpoints(idx, 2))*alpha(idx) + rightpoints(idx+1, 2) - rightpoints(idx, 2), 2)/power((-leftpoints(idx+1, 1) + rightpoints(idx+1, 1))*alpha[i + 1] - (-leftpoints(idx, 1) + rightpoints(idx, 1))*alpha(idx) + rightpoints(idx+1, 1) - rightpoints(idx, 1), 3) - (2*leftpoints(idx, 2) - 2*rightpoints(idx, 2))*((-leftpoints(idx+1, 2) + rightpoints(idx+1, 2))*alpha[i + 1] - (-leftpoints(idx, 2) + rightpoints(idx, 2))*alpha(idx) + rightpoints(idx+1, 2) - rightpoints(idx, 2))/power((-leftpoints(idx+1, 1) + rightpoints(idx+1, 1))*alpha[i + 1] - (-leftpoints(idx, 1) + rightpoints(idx, 1))*alpha(idx) + rightpoints(idx+1, 1) - rightpoints(idx, 1), 2))*((-leftpoints(idx, 1) + rightpoints(idx, 1))*((-leftpoints(idx+1, 2) + rightpoints(idx+1, 2))*alpha[i + 1] - (-leftpoints(idx, 2) + rightpoints(idx, 2))*alpha(idx) + rightpoints(idx+1, 2) - rightpoints(idx, 2))/power((-leftpoints(idx+1, 1) + rightpoints(idx+1, 1))*alpha[i + 1] - (-leftpoints(idx, 1) + rightpoints(idx, 1))*alpha(idx) + rightpoints(idx+1, 1) - rightpoints(idx, 1), 2) + (leftpoints(idx, 2) - rightpoints(idx, 2))/((-leftpoints(idx+1, 1) + rightpoints(idx+1, 1))*alpha[i + 1] - (-leftpoints(idx, 1) + rightpoints(idx, 1))*alpha(idx) + rightpoints(idx+1, 1) - rightpoints(idx, 1)))/power(1 + power((-leftpoints(idx+1, 2) + rightpoints(idx+1, 2))*alpha[i + 1] - (-leftpoints(idx, 2) + rightpoints(idx, 2))*alpha(idx) + rightpoints(idx+1, 2) - rightpoints(idx, 2), 2)/power((-leftpoints(idx+1, 1) + rightpoints(idx+1, 1))*alpha[i + 1] - (-leftpoints(idx, 1) + rightpoints(idx, 1))*alpha(idx) + rightpoints(idx+1, 1) - rightpoints(idx, 1), 2), 2))/sqrt(power((-leftpoints(idx+1, 1) + rightpoints(idx+1, 1))*alpha[i + 1] - (-leftpoints(idx, 1) + rightpoints(idx, 1))*alpha(idx) + rightpoints(idx+1, 1) - rightpoints(idx, 1), 2) + power((-leftpoints(idx+1, 2) + rightpoints(idx+1, 2))*alpha[i + 1] - (-leftpoints(idx, 2) + rightpoints(idx, 2))*alpha(idx) + rightpoints(idx+1, 2) - rightpoints(idx, 2), 2))'"
            ]
          },
          "metadata": {},
          "execution_count": 29
        }
      ]
    }
  ]
}