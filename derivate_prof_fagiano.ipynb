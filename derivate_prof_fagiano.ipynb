{
  "nbformat": 4,
  "nbformat_minor": 0,
  "metadata": {
    "colab": {
      "name": "derivate_prof_fagiano.ipynb",
      "provenance": [],
      "authorship_tag": "ABX9TyMZoz1IsFD/GDsZ+UN8hfQq",
      "include_colab_link": true
    },
    "kernelspec": {
      "name": "python3",
      "display_name": "Python 3"
    },
    "language_info": {
      "name": "python"
    }
  },
  "cells": [
    {
      "cell_type": "markdown",
      "metadata": {
        "id": "view-in-github",
        "colab_type": "text"
      },
      "source": [
        "<a href=\"https://colab.research.google.com/github/giuliovv/trajectory_planning/blob/master/derivate_prof_fagiano.ipynb\" target=\"_parent\"><img src=\"https://colab.research.google.com/assets/colab-badge.svg\" alt=\"Open In Colab\"/></a>"
      ]
    },
    {
      "cell_type": "code",
      "execution_count": null,
      "metadata": {
        "id": "rqgokKyhEcZp"
      },
      "outputs": [],
      "source": [
        "import sympy\n",
        "from sympy import Symbol, Sum, IndexedBase\n",
        "from sympy.parsing.sympy_parser import parse_expr"
      ]
    }
  ]
}